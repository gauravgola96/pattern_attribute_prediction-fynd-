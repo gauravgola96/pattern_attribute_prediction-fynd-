{
 "cells": [
  {
   "cell_type": "code",
   "execution_count": 1,
   "metadata": {},
   "outputs": [
    {
     "name": "stderr",
     "output_type": "stream",
     "text": [
      "Using TensorFlow backend.\n"
     ]
    }
   ],
   "source": [
    "import os\n",
    "import Augmentor\n",
    "import os\n",
    "import glob"
   ]
  },
  {
   "cell_type": "code",
   "execution_count": 9,
   "metadata": {},
   "outputs": [
    {
     "name": "stderr",
     "output_type": "stream",
     "text": [
      "\r",
      "Executing Pipeline:   0%|          | 0/600 [00:00<?, ? Samples/s]"
     ]
    },
    {
     "name": "stdout",
     "output_type": "stream",
     "text": [
      "Initialised with 240 image(s) found.\n",
      "Output directory set to /home/gaurav/Documents/GAURAV/Test/AML/data_orginal/opencv/augmented/typography."
     ]
    },
    {
     "name": "stderr",
     "output_type": "stream",
     "text": [
      "Processing <PIL.Image.Image image mode=RGB size=224x224 at 0x7F7579BFC9B0>: 100%|██████████| 600/600 [00:14<00:00, 40.69 Samples/s]\n",
      "Executing Pipeline:   0%|          | 0/600 [00:00<?, ? Samples/s]"
     ]
    },
    {
     "name": "stdout",
     "output_type": "stream",
     "text": [
      "Initialised with 238 image(s) found.\n",
      "Output directory set to /home/gaurav/Documents/GAURAV/Test/AML/data_orginal/opencv/augmented/solid."
     ]
    },
    {
     "name": "stderr",
     "output_type": "stream",
     "text": [
      "Processing <PIL.Image.Image image mode=RGB size=224x224 at 0x7F7579CE2EF0>: 100%|██████████| 600/600 [00:14<00:00, 40.60 Samples/s]\n",
      "Executing Pipeline:   0%|          | 0/600 [00:00<?, ? Samples/s]"
     ]
    },
    {
     "name": "stdout",
     "output_type": "stream",
     "text": [
      "Initialised with 236 image(s) found.\n",
      "Output directory set to /home/gaurav/Documents/GAURAV/Test/AML/data_orginal/opencv/augmented/striped."
     ]
    },
    {
     "name": "stderr",
     "output_type": "stream",
     "text": [
      "Processing <PIL.Image.Image image mode=RGB size=224x224 at 0x7F7579BFBEF0>: 100%|██████████| 600/600 [00:14<00:00, 41.22 Samples/s]\n",
      "Executing Pipeline:   0%|          | 0/600 [00:00<?, ? Samples/s]"
     ]
    },
    {
     "name": "stdout",
     "output_type": "stream",
     "text": [
      "Initialised with 240 image(s) found.\n",
      "Output directory set to /home/gaurav/Documents/GAURAV/Test/AML/data_orginal/opencv/augmented/graphic."
     ]
    },
    {
     "name": "stderr",
     "output_type": "stream",
     "text": [
      "Processing <PIL.Image.Image image mode=RGB size=224x224 at 0x7F7578ABCDD8>: 100%|██████████| 600/600 [00:14<00:00, 41.87 Samples/s]\n",
      "Processing <PIL.Image.Image image mode=RGB size=224x224 at 0x7F7578AB3B38>:   0%|          | 1/600 [00:00<01:43,  5.79 Samples/s]"
     ]
    },
    {
     "name": "stdout",
     "output_type": "stream",
     "text": [
      "Initialised with 235 image(s) found.\n",
      "Output directory set to /home/gaurav/Documents/GAURAV/Test/AML/data_orginal/opencv/augmented/abstract."
     ]
    },
    {
     "name": "stderr",
     "output_type": "stream",
     "text": [
      "Processing <PIL.Image.Image image mode=RGB size=224x224 at 0x7F75B809BB00>: 100%|██████████| 600/600 [00:14<00:00, 42.61 Samples/s]\n",
      "Executing Pipeline:   0%|          | 0/600 [00:00<?, ? Samples/s]"
     ]
    },
    {
     "name": "stdout",
     "output_type": "stream",
     "text": [
      "Initialised with 88 image(s) found.\n",
      "Output directory set to /home/gaurav/Documents/GAURAV/Test/AML/data_orginal/opencv/augmented/Colourblock."
     ]
    },
    {
     "name": "stderr",
     "output_type": "stream",
     "text": [
      "Processing <PIL.Image.Image image mode=RGB size=224x224 at 0x7F7578AC2630>: 100%|██████████| 600/600 [00:26<00:00, 22.72 Samples/s]\n",
      "Processing <PIL.Image.Image image mode=RGB size=224x224 at 0x7F7578AE78D0>:   0%|          | 1/600 [00:00<01:37,  6.17 Samples/s]"
     ]
    },
    {
     "name": "stdout",
     "output_type": "stream",
     "text": [
      "Initialised with 234 image(s) found.\n",
      "Output directory set to /home/gaurav/Documents/GAURAV/Test/AML/data_orginal/opencv/augmented/Patterned."
     ]
    },
    {
     "name": "stderr",
     "output_type": "stream",
     "text": [
      "Processing <PIL.Image.Image image mode=RGB size=224x224 at 0x7F7579CCF160>: 100%|██████████| 600/600 [00:07<00:00, 153.42 Samples/s]\n",
      "Executing Pipeline:   0%|          | 0/600 [00:00<?, ? Samples/s]"
     ]
    },
    {
     "name": "stdout",
     "output_type": "stream",
     "text": [
      "Initialised with 236 image(s) found.\n",
      "Output directory set to /home/gaurav/Documents/GAURAV/Test/AML/data_orginal/opencv/augmented/Melange."
     ]
    },
    {
     "name": "stderr",
     "output_type": "stream",
     "text": [
      "Processing <PIL.Image.Image image mode=RGB size=224x224 at 0x7F7578AED588>: 100%|██████████| 600/600 [00:07<00:00, 83.75 Samples/s] \n",
      "Executing Pipeline:   0%|          | 0/600 [00:00<?, ? Samples/s]"
     ]
    },
    {
     "name": "stdout",
     "output_type": "stream",
     "text": [
      "Initialised with 236 image(s) found.\n",
      "Output directory set to /home/gaurav/Documents/GAURAV/Test/AML/data_orginal/opencv/augmented/polka dots."
     ]
    },
    {
     "name": "stderr",
     "output_type": "stream",
     "text": [
      "Processing <PIL.Image.Image image mode=RGB size=224x224 at 0x7F7578A62630>: 100%|██████████| 600/600 [00:14<00:00, 42.67 Samples/s]\n",
      "Executing Pipeline:   0%|          | 0/600 [00:00<?, ? Samples/s]"
     ]
    },
    {
     "name": "stdout",
     "output_type": "stream",
     "text": [
      "Initialised with 240 image(s) found.\n",
      "Output directory set to /home/gaurav/Documents/GAURAV/Test/AML/data_orginal/opencv/augmented/floral."
     ]
    },
    {
     "name": "stderr",
     "output_type": "stream",
     "text": [
      "Processing <PIL.Image.Image image mode=RGB size=224x224 at 0x7F7579C27080>: 100%|██████████| 600/600 [00:14<00:00, 40.74 Samples/s]\n",
      "Processing <PIL.Image.Image image mode=RGB size=224x224 at 0x7F7579B86F98>:   0%|          | 0/600 [00:00<?, ? Samples/s]"
     ]
    },
    {
     "name": "stdout",
     "output_type": "stream",
     "text": [
      "Initialised with 240 image(s) found.\n",
      "Output directory set to /home/gaurav/Documents/GAURAV/Test/AML/data_orginal/opencv/augmented/Printed."
     ]
    },
    {
     "name": "stderr",
     "output_type": "stream",
     "text": [
      "Processing <PIL.Image.Image image mode=RGB size=224x224 at 0x7F7578AE7AC8>: 100%|██████████| 600/600 [00:07<00:00, 77.37 Samples/s] \n",
      "Executing Pipeline:   0%|          | 0/600 [00:00<?, ? Samples/s]"
     ]
    },
    {
     "name": "stdout",
     "output_type": "stream",
     "text": [
      "Initialised with 236 image(s) found.\n",
      "Output directory set to /home/gaurav/Documents/GAURAV/Test/AML/data_orginal/opencv/augmented/Checked."
     ]
    },
    {
     "name": "stderr",
     "output_type": "stream",
     "text": [
      "Processing <PIL.Image.Image image mode=RGB size=224x224 at 0x7F7578AD1A58>: 100%|██████████| 600/600 [00:07<00:00, 77.06 Samples/s] \n"
     ]
    }
   ],
   "source": [
    "for i in os.listdir('/home/gaurav/Documents/GAURAV/Test/AML/data_orginal/opencv/train_cv/'):\n",
    "    if os.path.exists('/home/gaurav/Documents/GAURAV/Test/AML/data_orginal/opencv/augmented/'+i):\n",
    "        print('path existed')\n",
    "    else:\n",
    "        os.makedirs('/home/gaurav/Documents/GAURAV/Test/AML/data_orginal/opencv/augmented/'+i)\n",
    "    p = Augmentor.Pipeline(source_directory=\"/home/gaurav/Documents/GAURAV/Test/AML/data_orginal/opencv/train_cv/\"+i,output_directory='/home/gaurav/Documents/GAURAV/Test/AML/data_orginal/opencv/augmented/'+i)\n",
    "    p.random_color(probability=0.5, min_factor=0, max_factor=15)\n",
    "    p.zoom_random(probability=0.5, percentage_area=0.85, randomise_percentage_area=False )\n",
    "    p.flip_left_right(probability=0.5)\n",
    "    #p.random_color(probability=0.5, min_factor=200, max_factor=255)\n",
    "    #p.random_color(probability=0.5, min_factor= 125, max_factor=150)\n",
    "\n",
    "\n",
    "#     p.gaussian_distortion(probability=1, grid_height=8, grid_width=8, magnitude=8)\n",
    "#     p.random_distortion(probability=1)\n",
    "    p.random_distortion(probability=0.5, grid_width=6, grid_height=5, magnitude=8)\n",
    "    p.resize(probability=1.0, width=224, height=224)\n",
    "    p.sample(600)\n",
    "    "
   ]
  },
  {
   "cell_type": "code",
   "execution_count": 26,
   "metadata": {},
   "outputs": [],
   "source": [
    "import shutil\n",
    "import math\n",
    "from PIL import Image\n",
    "directory = \"images/Train Directory/\"\n",
    "\n",
    "\n",
    "#Resizing the data of the shape(224,224) and converting the png images to jpeg images\n",
    "\n",
    "resized_path = os.path.join(directory, \"Resized_Data\")\n",
    "if not os.path.exists(resized_path):\n",
    "    os.makedirs(resized_path)\n",
    "\n",
    "for dir_name in os.listdir(directory):\n",
    "        if dir_name != \"Resized_Data\":\n",
    "            image_folder = os.path.join(directory,dir_name)\n",
    "            resized_image_path = os.path.join(resized_path, dir_name)\n",
    "            if not os.path.exists(resized_image_path):\n",
    "                os.makedirs(resized_image_path)\n",
    "            \n",
    "            for filename in os.listdir(image_folder):\n",
    "                try:\n",
    "                    if not os.path.isfile(filename):\n",
    "                        file = os.path.join(image_folder,filename)\n",
    "                        copy_path = resized_image_path+\"/\"+filename\n",
    "                        im = Image.open(file)\n",
    "                        rgb_im = im.convert('RGB')   #PNG to JPEG conversion\n",
    "                        imResize = rgb_im.resize((224,224), Image.ANTIALIAS)   # Resizing\n",
    "                        imResize.save(copy_path, 'JPEG', quality=90)\n",
    "                except:\n",
    "                    pass"
   ]
  },
  {
   "cell_type": "code",
   "execution_count": 27,
   "metadata": {},
   "outputs": [],
   "source": [
    "\n",
    "import os\n",
    "import shutil\n",
    "import math\n",
    "directory = \"images/Train Directory/Resized_Data\"\n",
    "path = directory.rpartition(\"/\")\n",
    "\n",
    "data_path_train = os.path.join(directory, \"Data\",\"train\")\n",
    "if not os.path.exists(data_path_train):\n",
    "    os.makedirs(data_path_train)\n",
    "    \n",
    "data_path_test = os.path.join(directory, \"Data\",\"test\")\n",
    "if not os.path.exists(data_path_test):\n",
    "    os.makedirs(data_path_test)\n",
    "    \n",
    "data_path_val = os.path.join(directory, \"Data\",\"validation\")\n",
    "if not os.path.exists(data_path_val):\n",
    "    os.makedirs(data_path_val)\n",
    "\n",
    "#train_path = os.path.join(directory,\"train\")\n",
    "for i in range(3):\n",
    "    if i == 0:\n",
    "        folder_path = data_path_train\n",
    "        percent = 0.8\n",
    "    elif i == 1:\n",
    "        folder_path = data_path_test\n",
    "        percent = 0.5\n",
    "    elif i == 2:\n",
    "        folder_path = data_path_val\n",
    "        percent = 0.5\n",
    "        \n",
    "    for dir_name in os.listdir(directory):\n",
    "        if dir_name != \"Data\":\n",
    "            image_folder = os.path.join(directory,dir_name)\n",
    "            copy_folder = os.path.join(folder_path,dir_name)\n",
    "            number_of_images = len([name for name in os.listdir(image_folder) ])\n",
    "            count_images = math.ceil(percent * number_of_images)\n",
    "            \n",
    "            if not os.path.exists(copy_folder):\n",
    "                os.makedirs(copy_folder)\n",
    "            count = 0\n",
    "            for filename in os.listdir(image_folder):\n",
    "                if count < count_images:\n",
    "                    count +=1\n",
    "                    try:\n",
    "                        if not os.path.isfile(filename):\n",
    "                            file = os.path.join(image_folder,filename)\n",
    "                            shutil.move(file,copy_folder)\n",
    "                    except:\n",
    "                        pass\n",
    "    "
   ]
  },
  {
   "cell_type": "code",
   "execution_count": null,
   "metadata": {},
   "outputs": [],
   "source": []
  },
  {
   "cell_type": "code",
   "execution_count": null,
   "metadata": {},
   "outputs": [],
   "source": []
  }
 ],
 "metadata": {
  "kernelspec": {
   "display_name": "Python 3",
   "language": "python",
   "name": "python3"
  },
  "language_info": {
   "codemirror_mode": {
    "name": "ipython",
    "version": 3
   },
   "file_extension": ".py",
   "mimetype": "text/x-python",
   "name": "python",
   "nbconvert_exporter": "python",
   "pygments_lexer": "ipython3",
   "version": "3.6.6"
  }
 },
 "nbformat": 4,
 "nbformat_minor": 2
}
