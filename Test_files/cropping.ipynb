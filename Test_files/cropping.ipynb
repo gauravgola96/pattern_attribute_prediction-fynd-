{
 "cells": [
  {
   "cell_type": "code",
   "execution_count": 1,
   "metadata": {},
   "outputs": [],
   "source": [
    "import cv2,os\n",
    "import PIL\n",
    "from PIL import Image\n",
    "import numpy as np\n",
    "import matplotlib\n",
    "from matplotlib import cm\n"
   ]
  },
  {
   "cell_type": "code",
   "execution_count": 2,
   "metadata": {},
   "outputs": [],
   "source": [
    "def crop_image(input_,outpath_):\n",
    "    im = Image.open(input_)\n",
    "#     crop_rectangle = (50, 150, 550, 650)\n",
    "    crop_rectangle = (50, 150, 550, 600)\n",
    "\n",
    "    cropped_im = im.crop(crop_rectangle)\n",
    "    return cropped_im.save(outpath_)\n",
    "    "
   ]
  },
  {
   "cell_type": "code",
   "execution_count": 3,
   "metadata": {},
   "outputs": [],
   "source": [
    "test_images = os.listdir('Test Directory/')"
   ]
  },
  {
   "cell_type": "code",
   "execution_count": 4,
   "metadata": {},
   "outputs": [],
   "source": [
    "for img in test_images:\n",
    "    input_ = 'Test Directory/'+img\n",
    "    output_ = 'Test_crops/'+img\n",
    "    crop_image(input_,output_)\n",
    "    "
   ]
  },
  {
   "cell_type": "code",
   "execution_count": null,
   "metadata": {},
   "outputs": [],
   "source": []
  }
 ],
 "metadata": {
  "kernelspec": {
   "display_name": "Python 3",
   "language": "python",
   "name": "python3"
  },
  "language_info": {
   "codemirror_mode": {
    "name": "ipython",
    "version": 3
   },
   "file_extension": ".py",
   "mimetype": "text/x-python",
   "name": "python",
   "nbconvert_exporter": "python",
   "pygments_lexer": "ipython3",
   "version": "3.6.6"
  }
 },
 "nbformat": 4,
 "nbformat_minor": 2
}
