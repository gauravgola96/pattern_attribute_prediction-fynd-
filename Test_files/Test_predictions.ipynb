{
 "cells": [
  {
   "cell_type": "code",
   "execution_count": null,
   "metadata": {},
   "outputs": [
    {
     "name": "stderr",
     "output_type": "stream",
     "text": [
      "Using TensorFlow backend.\n"
     ]
    }
   ],
   "source": [
    "import os,cv2\n",
    "import keras\n",
    "from PIL import Image\n",
    "import pandas as pd\n",
    "import numpy as np\n",
    "from keras.models import Model\n",
    "from keras.layers import Dropout,GlobalAveragePooling2D,Dense\n",
    "from keras.preprocessing.image import ImageDataGenerator\n",
    "\n",
    "\n",
    "\n",
    "from keras.models import Model,Sequential\n",
    "from keras.layers import Dense,Flatten\n",
    "from keras.layers import BatchNormalization,Activation\n",
    "\n",
    "from scipy.misc import imread\n",
    "import pickle as pickle\n",
    "import matplotlib.pyplot as plt\n",
    "\n",
    "from tqdm import tqdm"
   ]
  },
  {
   "cell_type": "markdown",
   "metadata": {},
   "source": [
    "# Loading Model weights"
   ]
  },
  {
   "cell_type": "code",
   "execution_count": null,
   "metadata": {},
   "outputs": [],
   "source": [
    "# Loading model with no weights\n",
    "model_Xcep = keras.applications.xception.Xception(weights=None,include_top=False,input_shape=(299,299,3))\n",
    "\n",
    "# Customizing network for our dataset(12 classes)\n",
    "x = model_Xcep.output\n",
    "x = Dropout(0.5)(x)\n",
    "x = GlobalAveragePooling2D()(x)\n",
    "x = Dense(512,activation='sigmoid')(x)\n",
    "x = Dropout(0.5)(x)\n",
    "pred = Dense(12,activation='softmax')(x)\n",
    "model = Model(inputs=model_Xcep.input, outputs=pred)\n",
    "\n",
    "# Best epoch model\n",
    "model.load_weights('/home/gaurav/Documents/GAURAV/Test/AML/final/model_checkpoint/patterntest.08-1.69.hdf5')"
   ]
  },
  {
   "cell_type": "markdown",
   "metadata": {},
   "source": [
    "# Making Predictions"
   ]
  },
  {
   "cell_type": "code",
   "execution_count": null,
   "metadata": {},
   "outputs": [],
   "source": [
    "pattern_dict = {0: 'Checked',1: 'Colourblock',2: 'Melange',3: 'Patterned',4: 'Printed',5: 'abstract',6: 'floral',7: 'graphic',8: 'polka dots',9: 'solid',\n",
    " 10: 'striped',11: 'typography'}"
   ]
  },
  {
   "cell_type": "code",
   "execution_count": null,
   "metadata": {},
   "outputs": [],
   "source": [
    "def crop_image(input_):\n",
    "    im = Image.open(input_)\n",
    "    crop_rectangle = (50, 150, 550, 600)\n",
    "    cropped_im = im.crop(crop_rectangle)\n",
    "    return cropped_im"
   ]
  },
  {
   "cell_type": "code",
   "execution_count": null,
   "metadata": {},
   "outputs": [],
   "source": [
    "def image_preprocess(image):\n",
    "    #cropping\n",
    "    img = crop_image(image)\n",
    "    #Read image\n",
    "#     img = cv2.imread(image)\n",
    "    img = np.array(img)\n",
    "    img.resize(1,299,299,3)\n",
    "    return img\n",
    "    "
   ]
  },
  {
   "cell_type": "code",
   "execution_count": null,
   "metadata": {
    "scrolled": true
   },
   "outputs": [],
   "source": [
    "def predict(image):\n",
    "    image_processed = image_preprocess(image)\n",
    "    pred = model.predict(image_processed)\n",
    "    y = np.argmax(pred,axis=1)\n",
    "    prob = np.max(pred)\n",
    "    return (pattern_dict[y[0]]),prob"
   ]
  },
  {
   "cell_type": "code",
   "execution_count": null,
   "metadata": {},
   "outputs": [],
   "source": [
    "def show_img(path):\n",
    "    img = imread(path, mode=\"RGB\")\n",
    "    plt.imshow(img)\n",
    "    plt.show()\n",
    "    "
   ]
  },
  {
   "cell_type": "code",
   "execution_count": null,
   "metadata": {},
   "outputs": [],
   "source": [
    "test_result = pd.DataFrame(columns=['image_name','label'])"
   ]
  },
  {
   "cell_type": "code",
   "execution_count": null,
   "metadata": {
    "scrolled": true
   },
   "outputs": [],
   "source": [
    "pred_list = []\n",
    "file = []\n",
    "for index,i in enumerate(os.listdir('Test Directory/')):\n",
    "    pred = predict('Test Directory/'+str(i))\n",
    "    file.append(str(i))\n",
    "    pred_list.append(pred[0])\n",
    "    if index%10==0 or index%66==0:\n",
    "        print('Number Processed Images: \\t',index)\n",
    "test_result['image_name'] = file\n",
    "test_result['label'] = pred_list"
   ]
  },
  {
   "cell_type": "code",
   "execution_count": null,
   "metadata": {},
   "outputs": [],
   "source": [
    "test_result.to_csv('test_result.csv',index=False)"
   ]
  }
 ],
 "metadata": {
  "kernelspec": {
   "display_name": "Python 3",
   "language": "python",
   "name": "python3"
  },
  "language_info": {
   "codemirror_mode": {
    "name": "ipython",
    "version": 3
   },
   "file_extension": ".py",
   "mimetype": "text/x-python",
   "name": "python",
   "nbconvert_exporter": "python",
   "pygments_lexer": "ipython3",
   "version": "3.6.6"
  }
 },
 "nbformat": 4,
 "nbformat_minor": 2
}
