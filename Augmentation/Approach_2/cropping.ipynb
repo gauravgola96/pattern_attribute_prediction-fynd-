{
 "cells": [
  {
   "cell_type": "code",
   "execution_count": 1,
   "metadata": {},
   "outputs": [],
   "source": [
    "import cv2,os\n",
    "import PIL\n",
    "from PIL import Image\n",
    "import numpy as np\n",
    "import matplotlib\n",
    "from matplotlib import cm\n"
   ]
  },
  {
   "cell_type": "code",
   "execution_count": 2,
   "metadata": {},
   "outputs": [],
   "source": [
    "# im = Image.open('/home/gaurav/Documents/GAURAV/Test/AML/data_orginal/Crops/validation/Colourblock/67808.jpg')\n",
    "# im.resize(size=(224,224))\n",
    "# # crop_rectangle = (100, 100, 200, 200)\n",
    "# cropped_img = im.crop((w//2 - 50//2, h//2 - 50//2, w//2 + 50//2, h//2 + 50//2))\n",
    "# # cropped_im = im.crop(crop_rectangle)\n",
    "# cropped_im.show()"
   ]
  },
  {
   "cell_type": "code",
   "execution_count": 193,
   "metadata": {},
   "outputs": [],
   "source": [
    "def crop_image(input_,outpath_):\n",
    "    im = Image.open(input_)\n",
    "#     crop_rectangle = (50, 50, 200, 200)\n",
    "    crop_rectangle = (80, 80, 150, 200)\n",
    "\n",
    "\n",
    "    cropped_im = im.crop(crop_rectangle)\n",
    "    return cropped_im.save(outpath_)\n",
    "    "
   ]
  },
  {
   "cell_type": "code",
   "execution_count": 195,
   "metadata": {},
   "outputs": [],
   "source": [
    "def create_cropped_folder(input_path):\n",
    "#     file_list = list(os.walk(input_path))\n",
    "#     folders = file_list[1]\n",
    "    folders = os.listdir(input_path)\n",
    "    for folder in folders:\n",
    "        print('Processing Folder %s'%folder)\n",
    "        if os.path.exists(input_path+'/'+folder+'_crop')==True:\n",
    "            print('folder_existed %s'%input_path+'/'+folder+'_crop')\n",
    "        else:\n",
    "            os.makedirs(input_path+'/'+folder+'_crop')\n",
    "            print('folder made : %s'%input_path+'/'+folder+'_crop')\n",
    "        out_path =  str(input_path)+'/'+str(folder)+'_crop'\n",
    "        \n",
    "        in_path = str(input_path)+'/'+str(folder)\n",
    "        \n",
    "        list_folder = os.listdir(str(in_path))\n",
    "        for fld in list_folder:\n",
    "            list_files = os.listdir(str(in_path)+'/'+str(fld))\n",
    "            for file in list_files:\n",
    "                in_ = str(in_path)+'/'+str(fld)+'/'+str(file)\n",
    "            \n",
    "                out_path_ = out_path+'/'+str(fld)+'/'+str(file)\n",
    "                \n",
    "                if os.path.exists(out_path+'/'+str(fld))==True:\n",
    "                    pass\n",
    "                else:\n",
    "                    os.makedirs(out_path+'/'+str(fld))\n",
    "                    print('folder_made : %s'%out_path+'/'+str(fld))\n",
    "\n",
    "                \n",
    "                crop_image(in_,out_path_)\n",
    "                \n",
    "    return 'DONE'"
   ]
  },
  {
   "cell_type": "code",
   "execution_count": 198,
   "metadata": {},
   "outputs": [
    {
     "name": "stdout",
     "output_type": "stream",
     "text": [
      "Processing Folder validation\n",
      "folder made : /home/gaurav/Documents/GAURAV/Test/AML/data_orginal/Crops/validation_crop\n",
      "folder_made : /home/gaurav/Documents/GAURAV/Test/AML/data_orginal/Crops/validation_crop/typography\n",
      "folder_made : /home/gaurav/Documents/GAURAV/Test/AML/data_orginal/Crops/validation_crop/solid\n",
      "folder_made : /home/gaurav/Documents/GAURAV/Test/AML/data_orginal/Crops/validation_crop/striped\n",
      "folder_made : /home/gaurav/Documents/GAURAV/Test/AML/data_orginal/Crops/validation_crop/graphic\n",
      "folder_made : /home/gaurav/Documents/GAURAV/Test/AML/data_orginal/Crops/validation_crop/abstract\n",
      "folder_made : /home/gaurav/Documents/GAURAV/Test/AML/data_orginal/Crops/validation_crop/Colourblock\n",
      "folder_made : /home/gaurav/Documents/GAURAV/Test/AML/data_orginal/Crops/validation_crop/Patterned\n",
      "folder_made : /home/gaurav/Documents/GAURAV/Test/AML/data_orginal/Crops/validation_crop/Melange\n",
      "folder_made : /home/gaurav/Documents/GAURAV/Test/AML/data_orginal/Crops/validation_crop/polka dots\n",
      "folder_made : /home/gaurav/Documents/GAURAV/Test/AML/data_orginal/Crops/validation_crop/floral\n",
      "folder_made : /home/gaurav/Documents/GAURAV/Test/AML/data_orginal/Crops/validation_crop/Printed\n",
      "folder_made : /home/gaurav/Documents/GAURAV/Test/AML/data_orginal/Crops/validation_crop/Checked\n",
      "Processing Folder train\n",
      "folder made : /home/gaurav/Documents/GAURAV/Test/AML/data_orginal/Crops/train_crop\n",
      "folder_made : /home/gaurav/Documents/GAURAV/Test/AML/data_orginal/Crops/train_crop/typography\n",
      "folder_made : /home/gaurav/Documents/GAURAV/Test/AML/data_orginal/Crops/train_crop/solid\n",
      "folder_made : /home/gaurav/Documents/GAURAV/Test/AML/data_orginal/Crops/train_crop/striped\n",
      "folder_made : /home/gaurav/Documents/GAURAV/Test/AML/data_orginal/Crops/train_crop/graphic\n",
      "folder_made : /home/gaurav/Documents/GAURAV/Test/AML/data_orginal/Crops/train_crop/abstract\n",
      "folder_made : /home/gaurav/Documents/GAURAV/Test/AML/data_orginal/Crops/train_crop/Colourblock\n",
      "folder_made : /home/gaurav/Documents/GAURAV/Test/AML/data_orginal/Crops/train_crop/Patterned\n",
      "folder_made : /home/gaurav/Documents/GAURAV/Test/AML/data_orginal/Crops/train_crop/Melange\n",
      "folder_made : /home/gaurav/Documents/GAURAV/Test/AML/data_orginal/Crops/train_crop/polka dots\n",
      "folder_made : /home/gaurav/Documents/GAURAV/Test/AML/data_orginal/Crops/train_crop/floral\n",
      "folder_made : /home/gaurav/Documents/GAURAV/Test/AML/data_orginal/Crops/train_crop/Printed\n",
      "folder_made : /home/gaurav/Documents/GAURAV/Test/AML/data_orginal/Crops/train_crop/Checked\n",
      "Processing Folder test\n",
      "folder made : /home/gaurav/Documents/GAURAV/Test/AML/data_orginal/Crops/test_crop\n",
      "folder_made : /home/gaurav/Documents/GAURAV/Test/AML/data_orginal/Crops/test_crop/typography\n",
      "folder_made : /home/gaurav/Documents/GAURAV/Test/AML/data_orginal/Crops/test_crop/solid\n",
      "folder_made : /home/gaurav/Documents/GAURAV/Test/AML/data_orginal/Crops/test_crop/striped\n",
      "folder_made : /home/gaurav/Documents/GAURAV/Test/AML/data_orginal/Crops/test_crop/graphic\n",
      "folder_made : /home/gaurav/Documents/GAURAV/Test/AML/data_orginal/Crops/test_crop/abstract\n",
      "folder_made : /home/gaurav/Documents/GAURAV/Test/AML/data_orginal/Crops/test_crop/Colourblock\n",
      "folder_made : /home/gaurav/Documents/GAURAV/Test/AML/data_orginal/Crops/test_crop/Patterned\n",
      "folder_made : /home/gaurav/Documents/GAURAV/Test/AML/data_orginal/Crops/test_crop/Melange\n",
      "folder_made : /home/gaurav/Documents/GAURAV/Test/AML/data_orginal/Crops/test_crop/polka dots\n",
      "folder_made : /home/gaurav/Documents/GAURAV/Test/AML/data_orginal/Crops/test_crop/floral\n",
      "folder_made : /home/gaurav/Documents/GAURAV/Test/AML/data_orginal/Crops/test_crop/Printed\n",
      "folder_made : /home/gaurav/Documents/GAURAV/Test/AML/data_orginal/Crops/test_crop/Checked\n"
     ]
    },
    {
     "data": {
      "text/plain": [
       "'DONE'"
      ]
     },
     "execution_count": 198,
     "metadata": {},
     "output_type": "execute_result"
    }
   ],
   "source": [
    "create_cropped_folder(input_path='/home/gaurav/Documents/GAURAV/Test/AML/data_orginal/Crops')"
   ]
  },
  {
   "cell_type": "code",
   "execution_count": null,
   "metadata": {},
   "outputs": [],
   "source": []
  },
  {
   "cell_type": "code",
   "execution_count": null,
   "metadata": {},
   "outputs": [],
   "source": []
  },
  {
   "cell_type": "code",
   "execution_count": null,
   "metadata": {},
   "outputs": [],
   "source": []
  },
  {
   "cell_type": "code",
   "execution_count": null,
   "metadata": {},
   "outputs": [],
   "source": []
  }
 ],
 "metadata": {
  "kernelspec": {
   "display_name": "Python 3",
   "language": "python",
   "name": "python3"
  },
  "language_info": {
   "codemirror_mode": {
    "name": "ipython",
    "version": 3
   },
   "file_extension": ".py",
   "mimetype": "text/x-python",
   "name": "python",
   "nbconvert_exporter": "python",
   "pygments_lexer": "ipython3",
   "version": "3.6.6"
  }
 },
 "nbformat": 4,
 "nbformat_minor": 2
}
