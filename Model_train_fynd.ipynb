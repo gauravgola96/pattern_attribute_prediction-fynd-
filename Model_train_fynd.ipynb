{
 "cells": [
  {
   "cell_type": "code",
   "execution_count": 1,
   "metadata": {
    "colab": {
     "base_uri": "https://localhost:8080/",
     "height": 156
    },
    "colab_type": "code",
    "executionInfo": {
     "elapsed": 40301,
     "status": "ok",
     "timestamp": 1541587564284,
     "user": {
      "displayName": "gaurav gola",
      "photoUrl": "https://lh5.googleusercontent.com/-ketmtoAC5Hw/AAAAAAAAAAI/AAAAAAAAKbg/rxS0vcY_aaE/s64/photo.jpg",
      "userId": "17488923923784805900"
     },
     "user_tz": -330
    },
    "id": "bSlv4Ft0aPxV",
    "outputId": "4f753f94-55cc-45ae-8a89-2d35017a7cf9"
   },
   "outputs": [
    {
     "name": "stdout",
     "output_type": "stream",
     "text": [
      "Cloning into 'data'...\n",
      "remote: Enumerating objects: 43, done.\u001b[K\n",
      "remote: Counting objects:   2% (1/43)   \u001b[K\r",
      "remote: Counting objects:   4% (2/43)   \u001b[K\r",
      "remote: Counting objects:   6% (3/43)   \u001b[K\r",
      "remote: Counting objects:   9% (4/43)   \u001b[K\r",
      "remote: Counting objects:  11% (5/43)   \u001b[K\r",
      "remote: Counting objects:  13% (6/43)   \u001b[K\r",
      "remote: Counting objects:  16% (7/43)   \u001b[K\r",
      "remote: Counting objects:  18% (8/43)   \u001b[K\r",
      "remote: Counting objects:  20% (9/43)   \u001b[K\r",
      "remote: Counting objects:  23% (10/43)   \u001b[K\r",
      "remote: Counting objects:  25% (11/43)   \u001b[K\r",
      "remote: Counting objects:  27% (12/43)   \u001b[K\r",
      "remote: Counting objects:  30% (13/43)   \u001b[K\r",
      "remote: Counting objects:  32% (14/43)   \u001b[K\r",
      "remote: Counting objects:  34% (15/43)   \u001b[K\r",
      "remote: Counting objects:  37% (16/43)   \u001b[K\r",
      "remote: Counting objects:  39% (17/43)   \u001b[K\r",
      "remote: Counting objects:  41% (18/43)   \u001b[K\r",
      "remote: Counting objects:  44% (19/43)   \u001b[K\r",
      "remote: Counting objects:  46% (20/43)   \u001b[K\r",
      "remote: Counting objects:  48% (21/43)   \u001b[K\r",
      "remote: Counting objects:  51% (22/43)   \u001b[K\r",
      "remote: Counting objects:  53% (23/43)   \u001b[K\r",
      "remote: Counting objects:  55% (24/43)   \u001b[K\r",
      "remote: Counting objects:  58% (25/43)   \u001b[K\r",
      "remote: Counting objects:  60% (26/43)   \u001b[K\r",
      "remote: Counting objects:  62% (27/43)   \u001b[K\r",
      "remote: Counting objects:  65% (28/43)   \u001b[K\r",
      "remote: Counting objects:  67% (29/43)   \u001b[K\r",
      "remote: Counting objects:  69% (30/43)   \u001b[K\r",
      "remote: Counting objects:  72% (31/43)   \u001b[K\r",
      "remote: Counting objects:  74% (32/43)   \u001b[K\r",
      "remote: Counting objects:  76% (33/43)   \u001b[K\r",
      "remote: Counting objects:  79% (34/43)   \u001b[K\r",
      "remote: Counting objects:  81% (35/43)   \u001b[K\r",
      "remote: Counting objects:  83% (36/43)   \u001b[K\r",
      "remote: Counting objects:  86% (37/43)   \u001b[K\r",
      "remote: Counting objects:  88% (38/43)   \u001b[K\r",
      "remote: Counting objects:  90% (39/43)   \u001b[K\r",
      "remote: Counting objects:  93% (40/43)   \u001b[K\r",
      "remote: Counting objects:  95% (41/43)   \u001b[K\r",
      "remote: Counting objects:  97% (42/43)   \u001b[K\r",
      "remote: Counting objects: 100% (43/43)   \u001b[K\r",
      "remote: Counting objects: 100% (43/43), done.\u001b[K\n",
      "remote: Compressing objects: 100% (41/41), done.\u001b[K\n",
      "remote: Total 32320 (delta 2), reused 42 (delta 2), pack-reused 32277\u001b[K\n",
      "Receiving objects: 100% (32320/32320), 594.23 MiB | 27.80 MiB/s, done.\n",
      "Resolving deltas: 100% (1464/1464), done.\n",
      "Checking out files: 100% (47316/47316), done.\n"
     ]
    }
   ],
   "source": [
    "!git clone https://github.com/gauravgola96/data.git"
   ]
  },
  {
   "cell_type": "code",
   "execution_count": 1,
   "metadata": {
    "colab": {
     "base_uri": "https://localhost:8080/",
     "height": 34
    },
    "colab_type": "code",
    "executionInfo": {
     "elapsed": 2471,
     "status": "ok",
     "timestamp": 1541607740357,
     "user": {
      "displayName": "gaurav gola",
      "photoUrl": "https://lh5.googleusercontent.com/-ketmtoAC5Hw/AAAAAAAAAAI/AAAAAAAAKbg/rxS0vcY_aaE/s64/photo.jpg",
      "userId": "17488923923784805900"
     },
     "user_tz": -330
    },
    "id": "_pvwLQcXaWDZ",
    "outputId": "fb987fd1-1872-4e85-ece7-45ca617562cd"
   },
   "outputs": [
    {
     "name": "stderr",
     "output_type": "stream",
     "text": [
      "Using TensorFlow backend.\n"
     ]
    }
   ],
   "source": [
    "import os\n",
    "import keras\n",
    "import glob\n",
    "import pandas as pd\n",
    "import numpy as np\n",
    "import tensorflow as tf\n",
    "from keras import Model\n",
    "from keras.utils import multi_gpu_model\n",
    "from keras import backend as K\n",
    "from keras.preprocessing.image import ImageDataGenerator\n",
    "from keras.models import Model\n",
    "from keras.layers import Dropout,GlobalAveragePooling2D,Dense\n",
    "from keras import applications as apps\n",
    "from keras.optimizers import Adam\n",
    "from keras.callbacks import ModelCheckpoint, LearningRateScheduler,TensorBoard\n",
    "from keras.preprocessing.image import ImageDataGenerator\n",
    "from keras.utils import np_utils\n",
    "from keras.models import Model,Sequential\n",
    "from keras.layers import Dense,Flatten\n",
    "from keras.layers import BatchNormalization,Activation\n"
   ]
  },
  {
   "cell_type": "code",
   "execution_count": 2,
   "metadata": {
    "colab": {
     "base_uri": "https://localhost:8080/",
     "height": 34
    },
    "colab_type": "code",
    "executionInfo": {
     "elapsed": 1444,
     "status": "ok",
     "timestamp": 1541607741888,
     "user": {
      "displayName": "gaurav gola",
      "photoUrl": "https://lh5.googleusercontent.com/-ketmtoAC5Hw/AAAAAAAAAAI/AAAAAAAAKbg/rxS0vcY_aaE/s64/photo.jpg",
      "userId": "17488923923784805900"
     },
     "user_tz": -330
    },
    "id": "-O59_QZBN68L",
    "outputId": "e8e747b0-48ed-42aa-c684-45e07793a7cb"
   },
   "outputs": [
    {
     "data": {
      "text/plain": [
       "'2.2.4'"
      ]
     },
     "execution_count": 2,
     "metadata": {
      "tags": []
     },
     "output_type": "execute_result"
    }
   ],
   "source": [
    "# !pip install keras==2.2.4\n",
    "keras.__version__"
   ]
  },
  {
   "cell_type": "code",
   "execution_count": 3,
   "metadata": {
    "colab": {
     "base_uri": "https://localhost:8080/",
     "height": 86
    },
    "colab_type": "code",
    "executionInfo": {
     "elapsed": 744,
     "status": "ok",
     "timestamp": 1541607743507,
     "user": {
      "displayName": "gaurav gola",
      "photoUrl": "https://lh5.googleusercontent.com/-ketmtoAC5Hw/AAAAAAAAAAI/AAAAAAAAKbg/rxS0vcY_aaE/s64/photo.jpg",
      "userId": "17488923923784805900"
     },
     "user_tz": -330
    },
    "id": "HLgADHSo1SYY",
    "outputId": "fabbe0b6-5ebb-4e2f-bce4-c7071357118b"
   },
   "outputs": [
    {
     "data": {
      "text/plain": [
       "['new_approach(Training_with_data_subsets)',\n",
       " 'train_crop',\n",
       " 'test_crop',\n",
       " 'validation_crop']"
      ]
     },
     "execution_count": 3,
     "metadata": {
      "tags": []
     },
     "output_type": "execute_result"
    }
   ],
   "source": [
    "os.listdir('/content/data/Augmented_Data')"
   ]
  },
  {
   "cell_type": "code",
   "execution_count": 4,
   "metadata": {
    "colab": {
     "base_uri": "https://localhost:8080/",
     "height": 34
    },
    "colab_type": "code",
    "executionInfo": {
     "elapsed": 1320,
     "status": "ok",
     "timestamp": 1541607746206,
     "user": {
      "displayName": "gaurav gola",
      "photoUrl": "https://lh5.googleusercontent.com/-ketmtoAC5Hw/AAAAAAAAAAI/AAAAAAAAKbg/rxS0vcY_aaE/s64/photo.jpg",
      "userId": "17488923923784805900"
     },
     "user_tz": -330
    },
    "id": "sDv-ebbZaWGK",
    "outputId": "d7969705-dd9b-4ab4-f512-eb9926168d1d"
   },
   "outputs": [
    {
     "name": "stdout",
     "output_type": "stream",
     "text": [
      "['test_files', 'model_checkpoint', 'subset_2', 'subset_3', 'subset_1', 'train', 'model_subset']\n"
     ]
    }
   ],
   "source": [
    "print(os.listdir('/content/data/Augmented_Data/new_approach(Training_with_data_subsets)'))\n",
    "\n",
    "train_path = '/content/data/Augmented_Data/new_approach(Training_with_data_subsets)/train'\n",
    "\n",
    "subset_1 = '/content/data/Augmented_Data/new_approach(Training_with_data_subsets)/subset_1'\n",
    "\n",
    "subset_2 = '/content/data/Augmented_Data/new_approach(Training_with_data_subsets)/subset_2'\n",
    "\n",
    "subset_3 = '/content/data/Augmented_Data/new_approach(Training_with_data_subsets)/subset_3'\n",
    "\n",
    "val_path = '/content/data/Augmented_Data/new_approach(Training_with_data_subsets)/test_files'"
   ]
  },
  {
   "cell_type": "markdown",
   "metadata": {
    "colab_type": "text",
    "id": "lAhTyJmqsJ4B"
   },
   "source": [
    "* Performed Data augmentation on Colourblock class\n",
    "* Each class has around 7% of data \n",
    "* Classes are balanced"
   ]
  },
  {
   "cell_type": "code",
   "execution_count": 5,
   "metadata": {
    "colab": {
     "base_uri": "https://localhost:8080/",
     "height": 243
    },
    "colab_type": "code",
    "executionInfo": {
     "elapsed": 871,
     "status": "ok",
     "timestamp": 1541607753913,
     "user": {
      "displayName": "gaurav gola",
      "photoUrl": "https://lh5.googleusercontent.com/-ketmtoAC5Hw/AAAAAAAAAAI/AAAAAAAAKbg/rxS0vcY_aaE/s64/photo.jpg",
      "userId": "17488923923784805900"
     },
     "user_tz": -330
    },
    "id": "p4WZw0MXrSMH",
    "outputId": "25c6ae17-0879-4c7f-c98d-f6aa4a9de330"
   },
   "outputs": [
    {
     "name": "stdout",
     "output_type": "stream",
     "text": [
      "Number of Images of class Patterned \t Percentage 8.333333 \t counts 480\n",
      "Number of Images of class Checked \t Percentage 8.333333 \t counts 480\n",
      "Number of Images of class striped \t Percentage 8.333333 \t counts 480\n",
      "Number of Images of class typography \t Percentage 8.333333 \t counts 480\n",
      "Number of Images of class abstract \t Percentage 8.333333 \t counts 480\n",
      "Number of Images of class polka dots \t Percentage 8.333333 \t counts 480\n",
      "Number of Images of class floral \t Percentage 8.333333 \t counts 480\n",
      "Number of Images of class Colourblock \t Percentage 8.333333 \t counts 480\n",
      "Number of Images of class solid \t Percentage 8.333333 \t counts 480\n",
      "Number of Images of class Printed \t Percentage 8.333333 \t counts 480\n",
      "Number of Images of class Melange \t Percentage 8.333333 \t counts 480\n",
      "Number of Images of class graphic \t Percentage 8.333333 \t counts 480\n",
      "Total Count 5760\n"
     ]
    }
   ],
   "source": [
    "count = []\n",
    "for i in list(os.walk(top='/content/data/Augmented_Data/new_approach(Training_with_data_subsets)/train'))[0][1]:\n",
    "    counts_images = len(os.listdir('/content/data/Augmented_Data/new_approach(Training_with_data_subsets)/train/'+i)) \n",
    "    print('Number of Images of class %s'%i,'\\t','Percentage %f'%(counts_images/5760 *100),'\\t','counts %d'%counts_images)\n",
    "    count.append(len(os.listdir('/content/data/Augmented_Data/new_approach(Training_with_data_subsets)/train/'+i)))\n",
    "print('Total Count %d'%sum(count))"
   ]
  },
  {
   "cell_type": "code",
   "execution_count": 0,
   "metadata": {
    "colab": {},
    "colab_type": "code",
    "id": "86kgzJMSkPlw"
   },
   "outputs": [],
   "source": []
  },
  {
   "cell_type": "markdown",
   "metadata": {
    "colab_type": "text",
    "id": "00QkLTBMkz1X"
   },
   "source": [
    "* Performing transfer learning method on Xception deep learning model.\n",
    "* Saving weights from subset_1 data and loading same weights on same network.\n",
    "* Re-running the same network on subset_2 data and saving its weights.\n",
    "* Same procedure for subset_3 data.\n"
   ]
  },
  {
   "cell_type": "code",
   "execution_count": 0,
   "metadata": {
    "colab": {},
    "colab_type": "code",
    "id": "-GdkE6qmhcFZ"
   },
   "outputs": [],
   "source": [
    "# Loading model.\n",
    "model_Xcep = keras.applications.xception.Xception(weights='imagenet',include_top=False,input_shape=(299,299,3))"
   ]
  },
  {
   "cell_type": "code",
   "execution_count": 0,
   "metadata": {
    "colab": {},
    "colab_type": "code",
    "id": "Ikb-UowJq8_E"
   },
   "outputs": [],
   "source": [
    "# Freezing first 100 layers\n",
    "# Around 25% of the parameters are trainable.\n",
    "for layers in model_Xcep.layers[:50]:\n",
    "    layers.trainable=False"
   ]
  },
  {
   "cell_type": "code",
   "execution_count": 0,
   "metadata": {
    "colab": {},
    "colab_type": "code",
    "id": "FCxMsglcVp0I"
   },
   "outputs": [],
   "source": [
    "# Customizing network for our dataset(12 classes)\n",
    "x = model_Xcep.output\n",
    "x = Dropout(0.5)(x)\n",
    "x = GlobalAveragePooling2D()(x)\n",
    "x = Dense(512,activation='sigmoid')(x)\n",
    "x = Dropout(0.5)(x)\n",
    "pred = Dense(12,activation='softmax')(x)\n",
    "model = Model(inputs=model_Xcep.input, outputs=pred)\n"
   ]
  },
  {
   "cell_type": "code",
   "execution_count": 0,
   "metadata": {
    "colab": {},
    "colab_type": "code",
    "id": "zxzENm2eq9EX"
   },
   "outputs": [],
   "source": [
    "nadam=keras.optimizers.nadam(lr =0.001)\n",
    "model.compile(optimizer=nadam,loss='categorical_crossentropy',metrics=['accuracy'])"
   ]
  },
  {
   "cell_type": "code",
   "execution_count": 0,
   "metadata": {
    "colab": {},
    "colab_type": "code",
    "id": "niuyroyzns9a"
   },
   "outputs": [],
   "source": [
    "# os.makedirs('/content/data/Augmented_Data/new_approach(Training_with_data_subsets)/model_subset/')\n",
    "# os.makedirs('/content/data/Augmented_Data/new_approach(Training_with_data_subsets)/model_checkpoint/')"
   ]
  },
  {
   "cell_type": "code",
   "execution_count": 0,
   "metadata": {
    "colab": {},
    "colab_type": "code",
    "id": "9ygYzm_8q9HO"
   },
   "outputs": [],
   "source": [
    "\n",
    "filepath='/content/data/Augmented_Data/new_approach(Training_with_data_subsets)/model_checkpoint/patterntest.{epoch:02d}-{val_loss:.2f}.hdf5'\n",
    "\n",
    "# tbCallBack = keras.callbacks.TensorBoard(log_dir='./Graph', histogram_freq=0, write_graph=True, write_images=True)\n",
    "\n",
    "mcCallBack = keras.callbacks.ModelCheckpoint(filepath,save_best_only=True,mode='auto',monitor='val_acc')\n",
    "\n",
    "earlystop = keras.callbacks.EarlyStopping(monitor='val_loss',patience=20)\n",
    "\n",
    "decaylearn = keras.callbacks.ReduceLROnPlateau(patience=5)"
   ]
  },
  {
   "cell_type": "code",
   "execution_count": 12,
   "metadata": {
    "colab": {
     "base_uri": "https://localhost:8080/",
     "height": 34
    },
    "colab_type": "code",
    "executionInfo": {
     "elapsed": 1365,
     "status": "ok",
     "timestamp": 1541607778624,
     "user": {
      "displayName": "gaurav gola",
      "photoUrl": "https://lh5.googleusercontent.com/-ketmtoAC5Hw/AAAAAAAAAAI/AAAAAAAAKbg/rxS0vcY_aaE/s64/photo.jpg",
      "userId": "17488923923784805900"
     },
     "user_tz": -330
    },
    "id": "iNC1eXpbor-6",
    "outputId": "f5997fbd-9902-4eff-a501-d8c2686ee357"
   },
   "outputs": [
    {
     "name": "stdout",
     "output_type": "stream",
     "text": [
      "Found 353 images belonging to 12 classes.\n"
     ]
    }
   ],
   "source": [
    "train_datagen = ImageDataGenerator(\n",
    "    rescale=1. / 255,\n",
    "    shear_range=0.2,\n",
    "    zoom_range=0.2,\n",
    "    rotation_range=20,\n",
    "    vertical_flip=False,\n",
    "    horizontal_flip=True,\n",
    "    width_shift_range=0.2,\n",
    "    height_shift_range=0.2)\n",
    "\n",
    "train_generator= train_datagen.flow_from_directory(subset_1,batch_size=64,target_size=(299,299),class_mode='categorical')"
   ]
  },
  {
   "cell_type": "code",
   "execution_count": 13,
   "metadata": {
    "colab": {
     "base_uri": "https://localhost:8080/",
     "height": 382
    },
    "colab_type": "code",
    "executionInfo": {
     "elapsed": 140779,
     "status": "ok",
     "timestamp": 1541607919783,
     "user": {
      "displayName": "gaurav gola",
      "photoUrl": "https://lh5.googleusercontent.com/-ketmtoAC5Hw/AAAAAAAAAAI/AAAAAAAAKbg/rxS0vcY_aaE/s64/photo.jpg",
      "userId": "17488923923784805900"
     },
     "user_tz": -330
    },
    "id": "mOc278ZHosBy",
    "outputId": "7b243875-8ecd-450c-ef04-a5fe1e1818a4"
   },
   "outputs": [
    {
     "name": "stdout",
     "output_type": "stream",
     "text": [
      "Epoch 1/10\n",
      "5/5 [==============================] - 27s 5s/step - loss: 2.5942 - acc: 0.1406\n",
      "Epoch 2/10\n",
      "5/5 [==============================] - 14s 3s/step - loss: 1.9892 - acc: 0.3621\n",
      "Epoch 3/10\n",
      "5/5 [==============================] - 11s 2s/step - loss: 1.2528 - acc: 0.5887\n",
      "Epoch 4/10\n",
      "5/5 [==============================] - 11s 2s/step - loss: 1.0179 - acc: 0.6690\n",
      "Epoch 5/10\n",
      "5/5 [==============================] - 11s 2s/step - loss: 0.6808 - acc: 0.7712\n",
      "Epoch 6/10\n",
      "5/5 [==============================] - 11s 2s/step - loss: 0.4584 - acc: 0.8397\n",
      "Epoch 7/10\n",
      "5/5 [==============================] - 13s 3s/step - loss: 0.4702 - acc: 0.8500\n",
      "Epoch 8/10\n",
      "5/5 [==============================] - 11s 2s/step - loss: 0.2659 - acc: 0.9273\n",
      "Epoch 9/10\n",
      "5/5 [==============================] - 11s 2s/step - loss: 0.1681 - acc: 0.9594\n",
      "Epoch 10/10\n",
      "5/5 [==============================] - 11s 2s/step - loss: 0.2735 - acc: 0.9114\n"
     ]
    },
    {
     "data": {
      "text/plain": [
       "<keras.callbacks.History at 0x7f4c860e9fd0>"
      ]
     },
     "execution_count": 13,
     "metadata": {
      "tags": []
     },
     "output_type": "execute_result"
    }
   ],
   "source": [
    "model.fit_generator(train_generator,\n",
    "                  epochs=10,steps_per_epoch = train_generator.samples//64)"
   ]
  },
  {
   "cell_type": "code",
   "execution_count": 0,
   "metadata": {
    "colab": {},
    "colab_type": "code",
    "id": "1BWgnL3eNm7h"
   },
   "outputs": [],
   "source": [
    "model.save_weights('/content/data/Augmented_Data/new_approach(Training_with_data_subsets)/model_subset/subset_1_wts.h5')"
   ]
  },
  {
   "cell_type": "code",
   "execution_count": 0,
   "metadata": {
    "colab": {},
    "colab_type": "code",
    "id": "e6FAWdhEqU9T"
   },
   "outputs": [],
   "source": []
  },
  {
   "cell_type": "markdown",
   "metadata": {
    "colab_type": "text",
    "id": "YwrpLuoUqlvU"
   },
   "source": [
    "* For subset_2 data\n"
   ]
  },
  {
   "cell_type": "code",
   "execution_count": 0,
   "metadata": {
    "colab": {},
    "colab_type": "code",
    "id": "bccdPj9Vqjr3"
   },
   "outputs": [],
   "source": [
    "\n",
    "# Loading model with no weights\n",
    "model_Xcep = keras.applications.xception.Xception(weights=None,include_top=False,input_shape=(299,299,3))"
   ]
  },
  {
   "cell_type": "code",
   "execution_count": 0,
   "metadata": {
    "colab": {},
    "colab_type": "code",
    "id": "mMWjxTjzqjyR"
   },
   "outputs": [],
   "source": [
    "# Freezing first 100 layers\n",
    "# Around 25% of the parameters are trainable.\n",
    "for layers in model_Xcep.layers[:80]:\n",
    "    layers.trainable=False"
   ]
  },
  {
   "cell_type": "code",
   "execution_count": 0,
   "metadata": {
    "colab": {},
    "colab_type": "code",
    "id": "91b-_rTsqj1N"
   },
   "outputs": [],
   "source": [
    "# Customizing network for our dataset(12 classes)\n",
    "x = model_Xcep.output\n",
    "x = Dropout(0.5)(x)\n",
    "x = GlobalAveragePooling2D()(x)\n",
    "x = Dense(512,activation='sigmoid')(x)\n",
    "x = Dropout(0.5)(x)\n",
    "pred = Dense(12,activation='softmax')(x)\n",
    "model = Model(inputs=model_Xcep.input, outputs=pred)"
   ]
  },
  {
   "cell_type": "code",
   "execution_count": 0,
   "metadata": {
    "colab": {},
    "colab_type": "code",
    "id": "-meFQCFrqxWH"
   },
   "outputs": [],
   "source": [
    "model.load_weights('/content/data/Augmented_Data/new_approach(Training_with_data_subsets)/model_subset/subset_1_wts.h5')"
   ]
  },
  {
   "cell_type": "code",
   "execution_count": 0,
   "metadata": {
    "colab": {},
    "colab_type": "code",
    "id": "q0CmtcIwqj4C"
   },
   "outputs": [],
   "source": [
    "nadam=keras.optimizers.nadam(lr =0.001)\n",
    "model.compile(optimizer=nadam,loss='categorical_crossentropy',metrics=['accuracy'])"
   ]
  },
  {
   "cell_type": "code",
   "execution_count": 20,
   "metadata": {
    "colab": {
     "base_uri": "https://localhost:8080/",
     "height": 34
    },
    "colab_type": "code",
    "executionInfo": {
     "elapsed": 1039,
     "status": "ok",
     "timestamp": 1541607953931,
     "user": {
      "displayName": "gaurav gola",
      "photoUrl": "https://lh5.googleusercontent.com/-ketmtoAC5Hw/AAAAAAAAAAI/AAAAAAAAKbg/rxS0vcY_aaE/s64/photo.jpg",
      "userId": "17488923923784805900"
     },
     "user_tz": -330
    },
    "id": "WXaATqPTq6jn",
    "outputId": "36f71134-d4dd-4f68-fa9f-28cfc5411200"
   },
   "outputs": [
    {
     "name": "stdout",
     "output_type": "stream",
     "text": [
      "Found 720 images belonging to 12 classes.\n"
     ]
    }
   ],
   "source": [
    "train_generator= train_datagen.flow_from_directory(subset_2,batch_size=64,target_size=(299,299),class_mode='categorical')"
   ]
  },
  {
   "cell_type": "code",
   "execution_count": 21,
   "metadata": {
    "colab": {
     "base_uri": "https://localhost:8080/",
     "height": 555
    },
    "colab_type": "code",
    "executionInfo": {
     "elapsed": 369294,
     "status": "ok",
     "timestamp": 1541608323541,
     "user": {
      "displayName": "gaurav gola",
      "photoUrl": "https://lh5.googleusercontent.com/-ketmtoAC5Hw/AAAAAAAAAAI/AAAAAAAAKbg/rxS0vcY_aaE/s64/photo.jpg",
      "userId": "17488923923784805900"
     },
     "user_tz": -330
    },
    "id": "P0O_Ve6eq_Oi",
    "outputId": "d2202ecd-1b29-4195-a173-f0d9ebc8bec1"
   },
   "outputs": [
    {
     "name": "stdout",
     "output_type": "stream",
     "text": [
      "Epoch 1/15\n",
      "11/11 [==============================] - 31s 3s/step - loss: 1.7519 - acc: 0.4858\n",
      "Epoch 2/15\n",
      "11/11 [==============================] - 24s 2s/step - loss: 1.1228 - acc: 0.6037\n",
      "Epoch 3/15\n",
      "11/11 [==============================] - 25s 2s/step - loss: 0.7766 - acc: 0.7343\n",
      "Epoch 4/15\n",
      "11/11 [==============================] - 24s 2s/step - loss: 0.6850 - acc: 0.7722\n",
      "Epoch 5/15\n",
      "11/11 [==============================] - 23s 2s/step - loss: 0.4678 - acc: 0.8508\n",
      "Epoch 6/15\n",
      "11/11 [==============================] - 24s 2s/step - loss: 0.4337 - acc: 0.8511\n",
      "Epoch 7/15\n",
      "11/11 [==============================] - 24s 2s/step - loss: 0.3779 - acc: 0.8772\n",
      "Epoch 8/15\n",
      "11/11 [==============================] - 23s 2s/step - loss: 0.2529 - acc: 0.9183\n",
      "Epoch 9/15\n",
      "11/11 [==============================] - 23s 2s/step - loss: 0.2865 - acc: 0.8958\n",
      "Epoch 10/15\n",
      "11/11 [==============================] - 23s 2s/step - loss: 0.2349 - acc: 0.9357\n",
      "Epoch 11/15\n",
      "11/11 [==============================] - 23s 2s/step - loss: 0.1808 - acc: 0.9493\n",
      "Epoch 12/15\n",
      "11/11 [==============================] - 24s 2s/step - loss: 0.1263 - acc: 0.9589\n",
      "Epoch 13/15\n",
      "11/11 [==============================] - 25s 2s/step - loss: 0.1005 - acc: 0.9716\n",
      "Epoch 14/15\n",
      "11/11 [==============================] - 24s 2s/step - loss: 0.1371 - acc: 0.9600\n",
      "Epoch 15/15\n",
      "11/11 [==============================] - 23s 2s/step - loss: 0.1245 - acc: 0.9689\n"
     ]
    },
    {
     "data": {
      "text/plain": [
       "<keras.callbacks.History at 0x7f4c8619c940>"
      ]
     },
     "execution_count": 21,
     "metadata": {
      "tags": []
     },
     "output_type": "execute_result"
    }
   ],
   "source": [
    "model.fit_generator(train_generator,\n",
    "                  epochs=15,steps_per_epoch = train_generator.samples//64)"
   ]
  },
  {
   "cell_type": "code",
   "execution_count": 0,
   "metadata": {
    "colab": {},
    "colab_type": "code",
    "id": "gG9fNb0TrGng"
   },
   "outputs": [],
   "source": [
    "model.save_weights('/content/data/Augmented_Data/new_approach(Training_with_data_subsets)/model_subset/subset__wts.h5')"
   ]
  },
  {
   "cell_type": "code",
   "execution_count": 0,
   "metadata": {
    "colab": {},
    "colab_type": "code",
    "id": "8N4b00pMrGsu"
   },
   "outputs": [],
   "source": []
  },
  {
   "cell_type": "markdown",
   "metadata": {
    "colab_type": "text",
    "id": "8A3xxZ3_rHzu"
   },
   "source": [
    "* For subset_3 data"
   ]
  },
  {
   "cell_type": "code",
   "execution_count": 0,
   "metadata": {
    "colab": {},
    "colab_type": "code",
    "id": "yrSsxtKOrGvT"
   },
   "outputs": [],
   "source": [
    "# Loading model with no weights\n",
    "model_Xcep = keras.applications.xception.Xception(weights=None,include_top=False,input_shape=(299,299,3))\n",
    "\n",
    "# Freezing first 100 layers\n",
    "# Around 25% of the parameters are trainable.\n",
    "for layers in model_Xcep.layers[:100]:\n",
    "    layers.trainable=False\n",
    "\n",
    "# Customizing network for our dataset(12 classes)\n",
    "x = model_Xcep.output\n",
    "x = Dropout(0.5)(x)\n",
    "x = GlobalAveragePooling2D()(x)\n",
    "x = Dense(512,activation='sigmoid')(x)\n",
    "x = Dropout(0.5)(x)\n",
    "pred = Dense(12,activation='softmax')(x)\n",
    "model = Model(inputs=model_Xcep.input, outputs=pred)"
   ]
  },
  {
   "cell_type": "code",
   "execution_count": 0,
   "metadata": {
    "colab": {},
    "colab_type": "code",
    "id": "W1fvuC_4rGyc"
   },
   "outputs": [],
   "source": [
    "model.load_weights('/content/data/Augmented_Data/new_approach(Training_with_data_subsets)/model_subset/subset__wts.h5')"
   ]
  },
  {
   "cell_type": "code",
   "execution_count": 0,
   "metadata": {
    "colab": {},
    "colab_type": "code",
    "id": "6v86cY2RrG1X"
   },
   "outputs": [],
   "source": [
    "nadam=keras.optimizers.nadam(lr =0.001)\n",
    "model.compile(optimizer=nadam,loss='categorical_crossentropy',metrics=['accuracy'])"
   ]
  },
  {
   "cell_type": "code",
   "execution_count": 26,
   "metadata": {
    "colab": {
     "base_uri": "https://localhost:8080/",
     "height": 34
    },
    "colab_type": "code",
    "executionInfo": {
     "elapsed": 1239,
     "status": "ok",
     "timestamp": 1541608361952,
     "user": {
      "displayName": "gaurav gola",
      "photoUrl": "https://lh5.googleusercontent.com/-ketmtoAC5Hw/AAAAAAAAAAI/AAAAAAAAKbg/rxS0vcY_aaE/s64/photo.jpg",
      "userId": "17488923923784805900"
     },
     "user_tz": -330
    },
    "id": "UB8k5sHorG4T",
    "outputId": "33d41352-e187-4b22-eb1e-d846afd6996c"
   },
   "outputs": [
    {
     "name": "stdout",
     "output_type": "stream",
     "text": [
      "Found 720 images belonging to 12 classes.\n"
     ]
    }
   ],
   "source": [
    "train_generator= train_datagen.flow_from_directory(subset_3,batch_size=64,target_size=(299,299),class_mode='categorical')"
   ]
  },
  {
   "cell_type": "code",
   "execution_count": 27,
   "metadata": {
    "colab": {
     "base_uri": "https://localhost:8080/",
     "height": 555
    },
    "colab_type": "code",
    "executionInfo": {
     "elapsed": 339044,
     "status": "ok",
     "timestamp": 1541608701246,
     "user": {
      "displayName": "gaurav gola",
      "photoUrl": "https://lh5.googleusercontent.com/-ketmtoAC5Hw/AAAAAAAAAAI/AAAAAAAAKbg/rxS0vcY_aaE/s64/photo.jpg",
      "userId": "17488923923784805900"
     },
     "user_tz": -330
    },
    "id": "xYEkP9MnrG6x",
    "outputId": "bb086b0d-fbef-495a-f401-964c43f4d92f"
   },
   "outputs": [
    {
     "name": "stdout",
     "output_type": "stream",
     "text": [
      "Epoch 1/15\n",
      "11/11 [==============================] - 28s 3s/step - loss: 1.7013 - acc: 0.5597\n",
      "Epoch 2/15\n",
      "11/11 [==============================] - 21s 2s/step - loss: 0.9945 - acc: 0.6804\n",
      "Epoch 3/15\n",
      "11/11 [==============================] - 22s 2s/step - loss: 0.7215 - acc: 0.7590\n",
      "Epoch 4/15\n",
      "11/11 [==============================] - 22s 2s/step - loss: 0.6143 - acc: 0.8022\n",
      "Epoch 5/15\n",
      "11/11 [==============================] - 22s 2s/step - loss: 0.4204 - acc: 0.8619\n",
      "Epoch 6/15\n",
      "11/11 [==============================] - 22s 2s/step - loss: 0.4184 - acc: 0.8729\n",
      "Epoch 7/15\n",
      "11/11 [==============================] - 22s 2s/step - loss: 0.2804 - acc: 0.9264\n",
      "Epoch 8/15\n",
      "11/11 [==============================] - 22s 2s/step - loss: 0.2788 - acc: 0.9146\n",
      "Epoch 9/15\n",
      "11/11 [==============================] - 22s 2s/step - loss: 0.2851 - acc: 0.9112\n",
      "Epoch 10/15\n",
      "11/11 [==============================] - 22s 2s/step - loss: 0.2094 - acc: 0.9400\n",
      "Epoch 11/15\n",
      "11/11 [==============================] - 22s 2s/step - loss: 0.1387 - acc: 0.9600\n",
      "Epoch 12/15\n",
      "11/11 [==============================] - 22s 2s/step - loss: 0.0899 - acc: 0.9732\n",
      "Epoch 13/15\n",
      "11/11 [==============================] - 24s 2s/step - loss: 0.0943 - acc: 0.9730\n",
      "Epoch 14/15\n",
      "11/11 [==============================] - 22s 2s/step - loss: 0.0758 - acc: 0.9757\n",
      "Epoch 15/15\n",
      "11/11 [==============================] - 21s 2s/step - loss: 0.0530 - acc: 0.9900\n"
     ]
    },
    {
     "data": {
      "text/plain": [
       "<keras.callbacks.History at 0x7f4c6caf6860>"
      ]
     },
     "execution_count": 27,
     "metadata": {
      "tags": []
     },
     "output_type": "execute_result"
    }
   ],
   "source": [
    "model.fit_generator(train_generator,\n",
    "                  epochs=15,steps_per_epoch = train_generator.samples//64)\n"
   ]
  },
  {
   "cell_type": "code",
   "execution_count": 0,
   "metadata": {
    "colab": {},
    "colab_type": "code",
    "id": "x2enPTnGrGrB"
   },
   "outputs": [],
   "source": [
    "model.save_weights('/content/data/Augmented_Data/new_approach(Training_with_data_subsets)/model_subset/subset_3_wts.h5')\n"
   ]
  },
  {
   "cell_type": "code",
   "execution_count": 0,
   "metadata": {
    "colab": {},
    "colab_type": "code",
    "id": "-cfPBMUMunYS"
   },
   "outputs": [],
   "source": [
    "\n"
   ]
  },
  {
   "cell_type": "markdown",
   "metadata": {
    "colab_type": "text",
    "id": "0ZkzotGruoij"
   },
   "source": [
    "* Final model training "
   ]
  },
  {
   "cell_type": "code",
   "execution_count": 0,
   "metadata": {
    "colab": {},
    "colab_type": "code",
    "id": "C7hAWPwQunew"
   },
   "outputs": [],
   "source": [
    "# Loading model with no weights\n",
    "model_Xcep = keras.applications.xception.Xception(weights=None,include_top=False,input_shape=(299,299,3))\n"
   ]
  },
  {
   "cell_type": "code",
   "execution_count": 0,
   "metadata": {
    "colab": {},
    "colab_type": "code",
    "id": "AtYNPN_Tunie"
   },
   "outputs": [],
   "source": [
    "# Freezing first 100 layers\n",
    "# Around 25% of the parameters are trainable.\n",
    "for layers in model_Xcep.layers[:110]:\n",
    "    layers.trainable=False\n",
    "\n",
    "# Customizing network for our dataset(12 classes)\n",
    "x = model_Xcep.output\n",
    "x = Dropout(0.5)(x)\n",
    "x = GlobalAveragePooling2D()(x)\n",
    "x = Dense(512,activation='sigmoid')(x)\n",
    "x = Dropout(0.5)(x)\n",
    "pred = Dense(12,activation='softmax')(x)\n",
    "model = Model(inputs=model_Xcep.input, outputs=pred)\n"
   ]
  },
  {
   "cell_type": "code",
   "execution_count": 0,
   "metadata": {
    "colab": {},
    "colab_type": "code",
    "id": "XOAb35Y3unld"
   },
   "outputs": [],
   "source": [
    "model.load_weights('/content/data/Augmented_Data/new_approach(Training_with_data_subsets)/model_subset/subset_3_wts.h5')"
   ]
  },
  {
   "cell_type": "code",
   "execution_count": 0,
   "metadata": {
    "colab": {},
    "colab_type": "code",
    "id": "FLRBNM90aVOe"
   },
   "outputs": [],
   "source": []
  },
  {
   "cell_type": "code",
   "execution_count": 0,
   "metadata": {
    "colab": {},
    "colab_type": "code",
    "id": "maIXotirunoR"
   },
   "outputs": [],
   "source": [
    "nadam=keras.optimizers.nadam(lr =0.001)\n",
    "model.compile(optimizer=nadam,loss='categorical_crossentropy',metrics=['accuracy'])\n"
   ]
  },
  {
   "cell_type": "code",
   "execution_count": 33,
   "metadata": {
    "colab": {
     "base_uri": "https://localhost:8080/",
     "height": 52
    },
    "colab_type": "code",
    "executionInfo": {
     "elapsed": 1923,
     "status": "ok",
     "timestamp": 1541608756743,
     "user": {
      "displayName": "gaurav gola",
      "photoUrl": "https://lh5.googleusercontent.com/-ketmtoAC5Hw/AAAAAAAAAAI/AAAAAAAAKbg/rxS0vcY_aaE/s64/photo.jpg",
      "userId": "17488923923784805900"
     },
     "user_tz": -330
    },
    "id": "aBG-7DtcunrO",
    "outputId": "abc030f2-e529-48c2-d517-80e85e64221c"
   },
   "outputs": [
    {
     "name": "stdout",
     "output_type": "stream",
     "text": [
      "Found 5760 images belonging to 12 classes.\n",
      "Found 357 images belonging to 12 classes.\n"
     ]
    }
   ],
   "source": [
    "train_datagen = ImageDataGenerator(\n",
    "    rescale=1. / 255,\n",
    "    shear_range=0.2,\n",
    "    zoom_range=0.2,\n",
    "    rotation_range=20,\n",
    "    vertical_flip=False,\n",
    "    horizontal_flip=True,\n",
    "    width_shift_range=0.2,\n",
    "    height_shift_range=0.2)\n",
    "\n",
    "train_generator= train_datagen.flow_from_directory(train_path,batch_size=64,target_size=(299,299),class_mode='categorical')\n",
    "\n",
    "\n",
    "test_datagen = ImageDataGenerator(rescale=1. / 255)\n",
    "\n",
    "val_generator=test_datagen.flow_from_directory(val_path,batch_size=64,target_size=(299,299),class_mode='categorical')\n"
   ]
  },
  {
   "cell_type": "code",
   "execution_count": 0,
   "metadata": {
    "colab": {
     "base_uri": "https://localhost:8080/",
     "height": 712
    },
    "colab_type": "code",
    "id": "ESZgyKx3vQVR",
    "outputId": "6d5fa29a-6a60-434f-b00b-d012938b1ee9"
   },
   "outputs": [
    {
     "name": "stdout",
     "output_type": "stream",
     "text": [
      "Epoch 1/30\n",
      "90/90 [==============================] - 215s 2s/step - loss: 1.1015 - acc: 0.6536 - val_loss: 1.3758 - val_acc: 0.5563\n",
      "Epoch 2/30\n",
      "90/90 [==============================] - 191s 2s/step - loss: 0.7493 - acc: 0.7509 - val_loss: 1.4146 - val_acc: 0.5563\n",
      "Epoch 3/30\n",
      "90/90 [==============================] - 199s 2s/step - loss: 0.5682 - acc: 0.8137 - val_loss: 1.5119 - val_acc: 0.6041\n",
      "Epoch 4/30\n",
      "90/90 [==============================] - 200s 2s/step - loss: 0.4524 - acc: 0.8521 - val_loss: 1.5439 - val_acc: 0.5904\n",
      "Epoch 5/30\n",
      "90/90 [==============================] - 202s 2s/step - loss: 0.3453 - acc: 0.8908 - val_loss: 1.7790 - val_acc: 0.5529\n",
      "Epoch 6/30\n",
      "90/90 [==============================] - 202s 2s/step - loss: 0.3062 - acc: 0.8991 - val_loss: 1.9803 - val_acc: 0.5563\n",
      "Epoch 7/30\n",
      "90/90 [==============================] - 198s 2s/step - loss: 0.1787 - acc: 0.9446 - val_loss: 1.7890 - val_acc: 0.6000\n",
      "Epoch 8/30\n",
      "90/90 [==============================] - 197s 2s/step - loss: 0.1274 - acc: 0.9601 - val_loss: 1.6942 - val_acc: 0.6075\n",
      "Epoch 9/30\n",
      "90/90 [==============================] - 196s 2s/step - loss: 0.1070 - acc: 0.9651 - val_loss: 1.9046 - val_acc: 0.5939\n",
      "Epoch 10/30\n",
      "90/90 [==============================] - 198s 2s/step - loss: 0.1023 - acc: 0.9707 - val_loss: 1.6642 - val_acc: 0.6143\n",
      "Epoch 11/30\n",
      "90/90 [==============================] - 199s 2s/step - loss: 0.0917 - acc: 0.9684 - val_loss: 2.0081 - val_acc: 0.5973\n",
      "Epoch 12/30\n",
      "90/90 [==============================] - 198s 2s/step - loss: 0.0716 - acc: 0.9792 - val_loss: 1.8297 - val_acc: 0.6041\n",
      "Epoch 13/30\n",
      "90/90 [==============================] - 199s 2s/step - loss: 0.0785 - acc: 0.9764 - val_loss: 1.8137 - val_acc: 0.6094\n",
      "Epoch 14/30\n",
      "90/90 [==============================] - 198s 2s/step - loss: 0.0725 - acc: 0.9793 - val_loss: 1.9139 - val_acc: 0.6143\n",
      "Epoch 15/30\n",
      "90/90 [==============================] - 196s 2s/step - loss: 0.0755 - acc: 0.9771 - val_loss: 1.9476 - val_acc: 0.5870\n",
      "Epoch 16/30\n",
      "90/90 [==============================] - 200s 2s/step - loss: 0.0656 - acc: 0.9780 - val_loss: 1.9011 - val_acc: 0.6212\n",
      "Epoch 17/30\n",
      "90/90 [==============================] - 200s 2s/step - loss: 0.0704 - acc: 0.9776 - val_loss: 1.7817 - val_acc: 0.6041\n",
      "Epoch 18/30\n",
      "90/90 [==============================] - 199s 2s/step - loss: 0.0730 - acc: 0.9774 - val_loss: 1.9560 - val_acc: 0.5904\n",
      "Epoch 19/30\n",
      "90/90 [==============================] - 199s 2s/step - loss: 0.0773 - acc: 0.9781 - val_loss: 1.9558 - val_acc: 0.5813\n",
      "Epoch 20/30\n",
      " 5/90 [>.............................] - ETA: 2:18 - loss: 0.0734 - acc: 0.9812"
     ]
    }
   ],
   "source": [
    "model.fit_generator(train_generator,\n",
    "                    epochs=30,\n",
    "                    callbacks=[mcCallBack,earlystop,decaylearn],steps_per_epoch=train_generator.samples//64,\n",
    "                    validation_data = val_generator, \n",
    "    validation_steps = val_generator.samples // 64\n",
    "                    )\n"
   ]
  },
  {
   "cell_type": "code",
   "execution_count": 0,
   "metadata": {
    "colab": {},
    "colab_type": "code",
    "id": "reheGj1MvQhI"
   },
   "outputs": [],
   "source": [
    "model.save_weights('/content/data/Augmented_Data/new_approach(Training_with_data_subsets)/model_subset/train_wts.h5')"
   ]
  },
  {
   "cell_type": "code",
   "execution_count": 68,
   "metadata": {
    "colab": {
     "base_uri": "https://localhost:8080/",
     "height": 5105
    },
    "colab_type": "code",
    "executionInfo": {
     "elapsed": 1166,
     "status": "ok",
     "timestamp": 1541598249936,
     "user": {
      "displayName": "gaurav gola",
      "photoUrl": "https://lh5.googleusercontent.com/-ketmtoAC5Hw/AAAAAAAAAAI/AAAAAAAAKbg/rxS0vcY_aaE/s64/photo.jpg",
      "userId": "17488923923784805900"
     },
     "user_tz": -330
    },
    "id": "DKZv5Iz7z83-",
    "outputId": "e635fb88-d533-42fd-cbc3-e174f2fc270a"
   },
   "outputs": [
    {
     "name": "stdout",
     "output_type": "stream",
     "text": [
      "__________________________________________________________________________________________________\n",
      "Layer (type)                    Output Shape         Param #     Connected to                     \n",
      "==================================================================================================\n",
      "input_9 (InputLayer)            (None, 299, 299, 3)  0                                            \n",
      "__________________________________________________________________________________________________\n",
      "block1_conv1 (Conv2D)           (None, 149, 149, 32) 864         input_9[0][0]                    \n",
      "__________________________________________________________________________________________________\n",
      "block1_conv1_bn (BatchNormaliza (None, 149, 149, 32) 128         block1_conv1[0][0]               \n",
      "__________________________________________________________________________________________________\n",
      "block1_conv1_act (Activation)   (None, 149, 149, 32) 0           block1_conv1_bn[0][0]            \n",
      "__________________________________________________________________________________________________\n",
      "block1_conv2 (Conv2D)           (None, 147, 147, 64) 18432       block1_conv1_act[0][0]           \n",
      "__________________________________________________________________________________________________\n",
      "block1_conv2_bn (BatchNormaliza (None, 147, 147, 64) 256         block1_conv2[0][0]               \n",
      "__________________________________________________________________________________________________\n",
      "block1_conv2_act (Activation)   (None, 147, 147, 64) 0           block1_conv2_bn[0][0]            \n",
      "__________________________________________________________________________________________________\n",
      "block2_sepconv1 (SeparableConv2 (None, 147, 147, 128 8768        block1_conv2_act[0][0]           \n",
      "__________________________________________________________________________________________________\n",
      "block2_sepconv1_bn (BatchNormal (None, 147, 147, 128 512         block2_sepconv1[0][0]            \n",
      "__________________________________________________________________________________________________\n",
      "block2_sepconv2_act (Activation (None, 147, 147, 128 0           block2_sepconv1_bn[0][0]         \n",
      "__________________________________________________________________________________________________\n",
      "block2_sepconv2 (SeparableConv2 (None, 147, 147, 128 17536       block2_sepconv2_act[0][0]        \n",
      "__________________________________________________________________________________________________\n",
      "block2_sepconv2_bn (BatchNormal (None, 147, 147, 128 512         block2_sepconv2[0][0]            \n",
      "__________________________________________________________________________________________________\n",
      "conv2d_33 (Conv2D)              (None, 74, 74, 128)  8192        block1_conv2_act[0][0]           \n",
      "__________________________________________________________________________________________________\n",
      "block2_pool (MaxPooling2D)      (None, 74, 74, 128)  0           block2_sepconv2_bn[0][0]         \n",
      "__________________________________________________________________________________________________\n",
      "batch_normalization_33 (BatchNo (None, 74, 74, 128)  512         conv2d_33[0][0]                  \n",
      "__________________________________________________________________________________________________\n",
      "add_97 (Add)                    (None, 74, 74, 128)  0           block2_pool[0][0]                \n",
      "                                                                 batch_normalization_33[0][0]     \n",
      "__________________________________________________________________________________________________\n",
      "block3_sepconv1_act (Activation (None, 74, 74, 128)  0           add_97[0][0]                     \n",
      "__________________________________________________________________________________________________\n",
      "block3_sepconv1 (SeparableConv2 (None, 74, 74, 256)  33920       block3_sepconv1_act[0][0]        \n",
      "__________________________________________________________________________________________________\n",
      "block3_sepconv1_bn (BatchNormal (None, 74, 74, 256)  1024        block3_sepconv1[0][0]            \n",
      "__________________________________________________________________________________________________\n",
      "block3_sepconv2_act (Activation (None, 74, 74, 256)  0           block3_sepconv1_bn[0][0]         \n",
      "__________________________________________________________________________________________________\n",
      "block3_sepconv2 (SeparableConv2 (None, 74, 74, 256)  67840       block3_sepconv2_act[0][0]        \n",
      "__________________________________________________________________________________________________\n",
      "block3_sepconv2_bn (BatchNormal (None, 74, 74, 256)  1024        block3_sepconv2[0][0]            \n",
      "__________________________________________________________________________________________________\n",
      "conv2d_34 (Conv2D)              (None, 37, 37, 256)  32768       add_97[0][0]                     \n",
      "__________________________________________________________________________________________________\n",
      "block3_pool (MaxPooling2D)      (None, 37, 37, 256)  0           block3_sepconv2_bn[0][0]         \n",
      "__________________________________________________________________________________________________\n",
      "batch_normalization_34 (BatchNo (None, 37, 37, 256)  1024        conv2d_34[0][0]                  \n",
      "__________________________________________________________________________________________________\n",
      "add_98 (Add)                    (None, 37, 37, 256)  0           block3_pool[0][0]                \n",
      "                                                                 batch_normalization_34[0][0]     \n",
      "__________________________________________________________________________________________________\n",
      "block4_sepconv1_act (Activation (None, 37, 37, 256)  0           add_98[0][0]                     \n",
      "__________________________________________________________________________________________________\n",
      "block4_sepconv1 (SeparableConv2 (None, 37, 37, 728)  188672      block4_sepconv1_act[0][0]        \n",
      "__________________________________________________________________________________________________\n",
      "block4_sepconv1_bn (BatchNormal (None, 37, 37, 728)  2912        block4_sepconv1[0][0]            \n",
      "__________________________________________________________________________________________________\n",
      "block4_sepconv2_act (Activation (None, 37, 37, 728)  0           block4_sepconv1_bn[0][0]         \n",
      "__________________________________________________________________________________________________\n",
      "block4_sepconv2 (SeparableConv2 (None, 37, 37, 728)  536536      block4_sepconv2_act[0][0]        \n",
      "__________________________________________________________________________________________________\n",
      "block4_sepconv2_bn (BatchNormal (None, 37, 37, 728)  2912        block4_sepconv2[0][0]            \n",
      "__________________________________________________________________________________________________\n",
      "conv2d_35 (Conv2D)              (None, 19, 19, 728)  186368      add_98[0][0]                     \n",
      "__________________________________________________________________________________________________\n",
      "block4_pool (MaxPooling2D)      (None, 19, 19, 728)  0           block4_sepconv2_bn[0][0]         \n",
      "__________________________________________________________________________________________________\n",
      "batch_normalization_35 (BatchNo (None, 19, 19, 728)  2912        conv2d_35[0][0]                  \n",
      "__________________________________________________________________________________________________\n",
      "add_99 (Add)                    (None, 19, 19, 728)  0           block4_pool[0][0]                \n",
      "                                                                 batch_normalization_35[0][0]     \n",
      "__________________________________________________________________________________________________\n",
      "block5_sepconv1_act (Activation (None, 19, 19, 728)  0           add_99[0][0]                     \n",
      "__________________________________________________________________________________________________\n",
      "block5_sepconv1 (SeparableConv2 (None, 19, 19, 728)  536536      block5_sepconv1_act[0][0]        \n",
      "__________________________________________________________________________________________________\n",
      "block5_sepconv1_bn (BatchNormal (None, 19, 19, 728)  2912        block5_sepconv1[0][0]            \n",
      "__________________________________________________________________________________________________\n",
      "block5_sepconv2_act (Activation (None, 19, 19, 728)  0           block5_sepconv1_bn[0][0]         \n",
      "__________________________________________________________________________________________________\n",
      "block5_sepconv2 (SeparableConv2 (None, 19, 19, 728)  536536      block5_sepconv2_act[0][0]        \n",
      "__________________________________________________________________________________________________\n",
      "block5_sepconv2_bn (BatchNormal (None, 19, 19, 728)  2912        block5_sepconv2[0][0]            \n",
      "__________________________________________________________________________________________________\n",
      "block5_sepconv3_act (Activation (None, 19, 19, 728)  0           block5_sepconv2_bn[0][0]         \n",
      "__________________________________________________________________________________________________\n",
      "block5_sepconv3 (SeparableConv2 (None, 19, 19, 728)  536536      block5_sepconv3_act[0][0]        \n",
      "__________________________________________________________________________________________________\n",
      "block5_sepconv3_bn (BatchNormal (None, 19, 19, 728)  2912        block5_sepconv3[0][0]            \n",
      "__________________________________________________________________________________________________\n",
      "add_100 (Add)                   (None, 19, 19, 728)  0           block5_sepconv3_bn[0][0]         \n",
      "                                                                 add_99[0][0]                     \n",
      "__________________________________________________________________________________________________\n",
      "block6_sepconv1_act (Activation (None, 19, 19, 728)  0           add_100[0][0]                    \n",
      "__________________________________________________________________________________________________\n",
      "block6_sepconv1 (SeparableConv2 (None, 19, 19, 728)  536536      block6_sepconv1_act[0][0]        \n",
      "__________________________________________________________________________________________________\n",
      "block6_sepconv1_bn (BatchNormal (None, 19, 19, 728)  2912        block6_sepconv1[0][0]            \n",
      "__________________________________________________________________________________________________\n",
      "block6_sepconv2_act (Activation (None, 19, 19, 728)  0           block6_sepconv1_bn[0][0]         \n",
      "__________________________________________________________________________________________________\n",
      "block6_sepconv2 (SeparableConv2 (None, 19, 19, 728)  536536      block6_sepconv2_act[0][0]        \n",
      "__________________________________________________________________________________________________\n",
      "block6_sepconv2_bn (BatchNormal (None, 19, 19, 728)  2912        block6_sepconv2[0][0]            \n",
      "__________________________________________________________________________________________________\n",
      "block6_sepconv3_act (Activation (None, 19, 19, 728)  0           block6_sepconv2_bn[0][0]         \n",
      "__________________________________________________________________________________________________\n",
      "block6_sepconv3 (SeparableConv2 (None, 19, 19, 728)  536536      block6_sepconv3_act[0][0]        \n",
      "__________________________________________________________________________________________________\n",
      "block6_sepconv3_bn (BatchNormal (None, 19, 19, 728)  2912        block6_sepconv3[0][0]            \n",
      "__________________________________________________________________________________________________\n",
      "add_101 (Add)                   (None, 19, 19, 728)  0           block6_sepconv3_bn[0][0]         \n",
      "                                                                 add_100[0][0]                    \n",
      "__________________________________________________________________________________________________\n",
      "block7_sepconv1_act (Activation (None, 19, 19, 728)  0           add_101[0][0]                    \n",
      "__________________________________________________________________________________________________\n",
      "block7_sepconv1 (SeparableConv2 (None, 19, 19, 728)  536536      block7_sepconv1_act[0][0]        \n",
      "__________________________________________________________________________________________________\n",
      "block7_sepconv1_bn (BatchNormal (None, 19, 19, 728)  2912        block7_sepconv1[0][0]            \n",
      "__________________________________________________________________________________________________\n",
      "block7_sepconv2_act (Activation (None, 19, 19, 728)  0           block7_sepconv1_bn[0][0]         \n",
      "__________________________________________________________________________________________________\n",
      "block7_sepconv2 (SeparableConv2 (None, 19, 19, 728)  536536      block7_sepconv2_act[0][0]        \n",
      "__________________________________________________________________________________________________\n",
      "block7_sepconv2_bn (BatchNormal (None, 19, 19, 728)  2912        block7_sepconv2[0][0]            \n",
      "__________________________________________________________________________________________________\n",
      "block7_sepconv3_act (Activation (None, 19, 19, 728)  0           block7_sepconv2_bn[0][0]         \n",
      "__________________________________________________________________________________________________\n",
      "block7_sepconv3 (SeparableConv2 (None, 19, 19, 728)  536536      block7_sepconv3_act[0][0]        \n",
      "__________________________________________________________________________________________________\n",
      "block7_sepconv3_bn (BatchNormal (None, 19, 19, 728)  2912        block7_sepconv3[0][0]            \n",
      "__________________________________________________________________________________________________\n",
      "add_102 (Add)                   (None, 19, 19, 728)  0           block7_sepconv3_bn[0][0]         \n",
      "                                                                 add_101[0][0]                    \n",
      "__________________________________________________________________________________________________\n",
      "block8_sepconv1_act (Activation (None, 19, 19, 728)  0           add_102[0][0]                    \n",
      "__________________________________________________________________________________________________\n",
      "block8_sepconv1 (SeparableConv2 (None, 19, 19, 728)  536536      block8_sepconv1_act[0][0]        \n",
      "__________________________________________________________________________________________________\n",
      "block8_sepconv1_bn (BatchNormal (None, 19, 19, 728)  2912        block8_sepconv1[0][0]            \n",
      "__________________________________________________________________________________________________\n",
      "block8_sepconv2_act (Activation (None, 19, 19, 728)  0           block8_sepconv1_bn[0][0]         \n",
      "__________________________________________________________________________________________________\n",
      "block8_sepconv2 (SeparableConv2 (None, 19, 19, 728)  536536      block8_sepconv2_act[0][0]        \n",
      "__________________________________________________________________________________________________\n",
      "block8_sepconv2_bn (BatchNormal (None, 19, 19, 728)  2912        block8_sepconv2[0][0]            \n",
      "__________________________________________________________________________________________________\n",
      "block8_sepconv3_act (Activation (None, 19, 19, 728)  0           block8_sepconv2_bn[0][0]         \n",
      "__________________________________________________________________________________________________\n",
      "block8_sepconv3 (SeparableConv2 (None, 19, 19, 728)  536536      block8_sepconv3_act[0][0]        \n",
      "__________________________________________________________________________________________________\n",
      "block8_sepconv3_bn (BatchNormal (None, 19, 19, 728)  2912        block8_sepconv3[0][0]            \n",
      "__________________________________________________________________________________________________\n",
      "add_103 (Add)                   (None, 19, 19, 728)  0           block8_sepconv3_bn[0][0]         \n",
      "                                                                 add_102[0][0]                    \n",
      "__________________________________________________________________________________________________\n",
      "block9_sepconv1_act (Activation (None, 19, 19, 728)  0           add_103[0][0]                    \n",
      "__________________________________________________________________________________________________\n",
      "block9_sepconv1 (SeparableConv2 (None, 19, 19, 728)  536536      block9_sepconv1_act[0][0]        \n",
      "__________________________________________________________________________________________________\n",
      "block9_sepconv1_bn (BatchNormal (None, 19, 19, 728)  2912        block9_sepconv1[0][0]            \n",
      "__________________________________________________________________________________________________\n",
      "block9_sepconv2_act (Activation (None, 19, 19, 728)  0           block9_sepconv1_bn[0][0]         \n",
      "__________________________________________________________________________________________________\n",
      "block9_sepconv2 (SeparableConv2 (None, 19, 19, 728)  536536      block9_sepconv2_act[0][0]        \n",
      "__________________________________________________________________________________________________\n",
      "block9_sepconv2_bn (BatchNormal (None, 19, 19, 728)  2912        block9_sepconv2[0][0]            \n",
      "__________________________________________________________________________________________________\n",
      "block9_sepconv3_act (Activation (None, 19, 19, 728)  0           block9_sepconv2_bn[0][0]         \n",
      "__________________________________________________________________________________________________\n",
      "block9_sepconv3 (SeparableConv2 (None, 19, 19, 728)  536536      block9_sepconv3_act[0][0]        \n",
      "__________________________________________________________________________________________________\n",
      "block9_sepconv3_bn (BatchNormal (None, 19, 19, 728)  2912        block9_sepconv3[0][0]            \n",
      "__________________________________________________________________________________________________\n",
      "add_104 (Add)                   (None, 19, 19, 728)  0           block9_sepconv3_bn[0][0]         \n",
      "                                                                 add_103[0][0]                    \n",
      "__________________________________________________________________________________________________\n",
      "block10_sepconv1_act (Activatio (None, 19, 19, 728)  0           add_104[0][0]                    \n",
      "__________________________________________________________________________________________________\n",
      "block10_sepconv1 (SeparableConv (None, 19, 19, 728)  536536      block10_sepconv1_act[0][0]       \n",
      "__________________________________________________________________________________________________\n",
      "block10_sepconv1_bn (BatchNorma (None, 19, 19, 728)  2912        block10_sepconv1[0][0]           \n",
      "__________________________________________________________________________________________________\n",
      "block10_sepconv2_act (Activatio (None, 19, 19, 728)  0           block10_sepconv1_bn[0][0]        \n",
      "__________________________________________________________________________________________________\n",
      "block10_sepconv2 (SeparableConv (None, 19, 19, 728)  536536      block10_sepconv2_act[0][0]       \n",
      "__________________________________________________________________________________________________\n",
      "block10_sepconv2_bn (BatchNorma (None, 19, 19, 728)  2912        block10_sepconv2[0][0]           \n",
      "__________________________________________________________________________________________________\n",
      "block10_sepconv3_act (Activatio (None, 19, 19, 728)  0           block10_sepconv2_bn[0][0]        \n",
      "__________________________________________________________________________________________________\n",
      "block10_sepconv3 (SeparableConv (None, 19, 19, 728)  536536      block10_sepconv3_act[0][0]       \n",
      "__________________________________________________________________________________________________\n",
      "block10_sepconv3_bn (BatchNorma (None, 19, 19, 728)  2912        block10_sepconv3[0][0]           \n",
      "__________________________________________________________________________________________________\n",
      "add_105 (Add)                   (None, 19, 19, 728)  0           block10_sepconv3_bn[0][0]        \n",
      "                                                                 add_104[0][0]                    \n",
      "__________________________________________________________________________________________________\n",
      "block11_sepconv1_act (Activatio (None, 19, 19, 728)  0           add_105[0][0]                    \n",
      "__________________________________________________________________________________________________\n",
      "block11_sepconv1 (SeparableConv (None, 19, 19, 728)  536536      block11_sepconv1_act[0][0]       \n",
      "__________________________________________________________________________________________________\n",
      "block11_sepconv1_bn (BatchNorma (None, 19, 19, 728)  2912        block11_sepconv1[0][0]           \n",
      "__________________________________________________________________________________________________\n",
      "block11_sepconv2_act (Activatio (None, 19, 19, 728)  0           block11_sepconv1_bn[0][0]        \n",
      "__________________________________________________________________________________________________\n",
      "block11_sepconv2 (SeparableConv (None, 19, 19, 728)  536536      block11_sepconv2_act[0][0]       \n",
      "__________________________________________________________________________________________________\n",
      "block11_sepconv2_bn (BatchNorma (None, 19, 19, 728)  2912        block11_sepconv2[0][0]           \n",
      "__________________________________________________________________________________________________\n",
      "block11_sepconv3_act (Activatio (None, 19, 19, 728)  0           block11_sepconv2_bn[0][0]        \n",
      "__________________________________________________________________________________________________\n",
      "block11_sepconv3 (SeparableConv (None, 19, 19, 728)  536536      block11_sepconv3_act[0][0]       \n",
      "__________________________________________________________________________________________________\n",
      "block11_sepconv3_bn (BatchNorma (None, 19, 19, 728)  2912        block11_sepconv3[0][0]           \n",
      "__________________________________________________________________________________________________\n",
      "add_106 (Add)                   (None, 19, 19, 728)  0           block11_sepconv3_bn[0][0]        \n",
      "                                                                 add_105[0][0]                    \n",
      "__________________________________________________________________________________________________\n",
      "block12_sepconv1_act (Activatio (None, 19, 19, 728)  0           add_106[0][0]                    \n",
      "__________________________________________________________________________________________________\n",
      "block12_sepconv1 (SeparableConv (None, 19, 19, 728)  536536      block12_sepconv1_act[0][0]       \n",
      "__________________________________________________________________________________________________\n",
      "block12_sepconv1_bn (BatchNorma (None, 19, 19, 728)  2912        block12_sepconv1[0][0]           \n",
      "__________________________________________________________________________________________________\n",
      "block12_sepconv2_act (Activatio (None, 19, 19, 728)  0           block12_sepconv1_bn[0][0]        \n",
      "__________________________________________________________________________________________________\n",
      "block12_sepconv2 (SeparableConv (None, 19, 19, 728)  536536      block12_sepconv2_act[0][0]       \n",
      "__________________________________________________________________________________________________\n",
      "block12_sepconv2_bn (BatchNorma (None, 19, 19, 728)  2912        block12_sepconv2[0][0]           \n",
      "__________________________________________________________________________________________________\n",
      "block12_sepconv3_act (Activatio (None, 19, 19, 728)  0           block12_sepconv2_bn[0][0]        \n",
      "__________________________________________________________________________________________________\n",
      "block12_sepconv3 (SeparableConv (None, 19, 19, 728)  536536      block12_sepconv3_act[0][0]       \n",
      "__________________________________________________________________________________________________\n",
      "block12_sepconv3_bn (BatchNorma (None, 19, 19, 728)  2912        block12_sepconv3[0][0]           \n",
      "__________________________________________________________________________________________________\n",
      "add_107 (Add)                   (None, 19, 19, 728)  0           block12_sepconv3_bn[0][0]        \n",
      "                                                                 add_106[0][0]                    \n",
      "__________________________________________________________________________________________________\n",
      "block13_sepconv1_act (Activatio (None, 19, 19, 728)  0           add_107[0][0]                    \n",
      "__________________________________________________________________________________________________\n",
      "block13_sepconv1 (SeparableConv (None, 19, 19, 728)  536536      block13_sepconv1_act[0][0]       \n",
      "__________________________________________________________________________________________________\n",
      "block13_sepconv1_bn (BatchNorma (None, 19, 19, 728)  2912        block13_sepconv1[0][0]           \n",
      "__________________________________________________________________________________________________\n",
      "block13_sepconv2_act (Activatio (None, 19, 19, 728)  0           block13_sepconv1_bn[0][0]        \n",
      "__________________________________________________________________________________________________\n",
      "block13_sepconv2 (SeparableConv (None, 19, 19, 1024) 752024      block13_sepconv2_act[0][0]       \n",
      "__________________________________________________________________________________________________\n",
      "block13_sepconv2_bn (BatchNorma (None, 19, 19, 1024) 4096        block13_sepconv2[0][0]           \n",
      "__________________________________________________________________________________________________\n",
      "conv2d_36 (Conv2D)              (None, 10, 10, 1024) 745472      add_107[0][0]                    \n",
      "__________________________________________________________________________________________________\n",
      "block13_pool (MaxPooling2D)     (None, 10, 10, 1024) 0           block13_sepconv2_bn[0][0]        \n",
      "__________________________________________________________________________________________________\n",
      "batch_normalization_36 (BatchNo (None, 10, 10, 1024) 4096        conv2d_36[0][0]                  \n",
      "__________________________________________________________________________________________________\n",
      "add_108 (Add)                   (None, 10, 10, 1024) 0           block13_pool[0][0]               \n",
      "                                                                 batch_normalization_36[0][0]     \n",
      "__________________________________________________________________________________________________\n",
      "block14_sepconv1 (SeparableConv (None, 10, 10, 1536) 1582080     add_108[0][0]                    \n",
      "__________________________________________________________________________________________________\n",
      "block14_sepconv1_bn (BatchNorma (None, 10, 10, 1536) 6144        block14_sepconv1[0][0]           \n",
      "__________________________________________________________________________________________________\n",
      "block14_sepconv1_act (Activatio (None, 10, 10, 1536) 0           block14_sepconv1_bn[0][0]        \n",
      "__________________________________________________________________________________________________\n",
      "block14_sepconv2 (SeparableConv (None, 10, 10, 2048) 3159552     block14_sepconv1_act[0][0]       \n",
      "__________________________________________________________________________________________________\n",
      "block14_sepconv2_bn (BatchNorma (None, 10, 10, 2048) 8192        block14_sepconv2[0][0]           \n",
      "__________________________________________________________________________________________________\n",
      "block14_sepconv2_act (Activatio (None, 10, 10, 2048) 0           block14_sepconv2_bn[0][0]        \n",
      "__________________________________________________________________________________________________\n",
      "dropout_19 (Dropout)            (None, 10, 10, 2048) 0           block14_sepconv2_act[0][0]       \n",
      "__________________________________________________________________________________________________\n",
      "global_average_pooling2d_10 (Gl (None, 2048)         0           dropout_19[0][0]                 \n",
      "__________________________________________________________________________________________________\n",
      "dense_19 (Dense)                (None, 512)          1049088     global_average_pooling2d_10[0][0]\n",
      "__________________________________________________________________________________________________\n",
      "dropout_20 (Dropout)            (None, 512)          0           dense_19[0][0]                   \n",
      "__________________________________________________________________________________________________\n",
      "dense_20 (Dense)                (None, 12)           6156        dropout_20[0][0]                 \n",
      "==================================================================================================\n",
      "Total params: 21,916,724\n",
      "Trainable params: 1,059,340\n",
      "Non-trainable params: 20,857,384\n",
      "__________________________________________________________________________________________________\n"
     ]
    }
   ],
   "source": [
    "model.summary()"
   ]
  }
 ],
 "metadata": {
  "accelerator": "GPU",
  "colab": {
   "collapsed_sections": [],
   "name": "AML_Xception_subset.ipynb",
   "provenance": [],
   "version": "0.3.2"
  },
  "kernelspec": {
   "display_name": "Python 3",
   "language": "python",
   "name": "python3"
  },
  "language_info": {
   "codemirror_mode": {
    "name": "ipython",
    "version": 3
   },
   "file_extension": ".py",
   "mimetype": "text/x-python",
   "name": "python",
   "nbconvert_exporter": "python",
   "pygments_lexer": "ipython3",
   "version": "3.6.6"
  }
 },
 "nbformat": 4,
 "nbformat_minor": 1
}
