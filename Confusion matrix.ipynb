{
 "cells": [
  {
   "cell_type": "code",
   "execution_count": 1,
   "metadata": {},
   "outputs": [
    {
     "name": "stderr",
     "output_type": "stream",
     "text": [
      "Using TensorFlow backend.\n"
     ]
    }
   ],
   "source": [
    "import numpy as np\n",
    "from keras.models import Model\n",
    "from keras.layers import Dropout,GlobalAveragePooling2D,Dense\n",
    "from keras.preprocessing.image import ImageDataGenerator\n",
    "\n",
    "from sklearn.metrics import classification_report, confusion_matrix\n",
    "\n",
    "from keras.models import Model,Sequential\n",
    "from keras.layers import Dense,Flatten\n",
    "from keras.layers import Activation\n"
   ]
  },
  {
   "cell_type": "markdown",
   "metadata": {},
   "source": [
    "# Load Model Weights"
   ]
  },
  {
   "cell_type": "code",
   "execution_count": 2,
   "metadata": {},
   "outputs": [],
   "source": [
    "# Loading model with no weights\n",
    "model_Xcep = keras.applications.xception.Xception(weights=None,include_top=False,input_shape=(299,299,3))\n",
    "\n",
    "# Customizing network for our dataset(12 classes)\n",
    "x = model_Xcep.output\n",
    "x = Dropout(0.5)(x)\n",
    "x = GlobalAveragePooling2D()(x)\n",
    "x = Dense(512,activation='sigmoid')(x)\n",
    "x = Dropout(0.5)(x)\n",
    "pred = Dense(12,activation='softmax')(x)\n",
    "model = Model(inputs=model_Xcep.input, outputs=pred)\n",
    "\n",
    "# Best epoch model\n",
    "model.load_weights('/home/gaurav/Documents/GAURAV/Test/AML/final/model_checkpoint/patterntest.08-1.69.hdf5')"
   ]
  },
  {
   "cell_type": "markdown",
   "metadata": {},
   "source": [
    "# ImageDatagenerator"
   ]
  },
  {
   "cell_type": "code",
   "execution_count": 3,
   "metadata": {},
   "outputs": [
    {
     "name": "stdout",
     "output_type": "stream",
     "text": [
      "Found 357 images belonging to 12 classes.\n"
     ]
    }
   ],
   "source": [
    "test_datagen = ImageDataGenerator(rescale=1. / 255)\n",
    "path = '/home/gaurav/Documents/GAURAV/Test/AML/Augmented_Data/new_approach(Training_with_data_subsets)/test_files'\n",
    "test = test_datagen.flow_from_directory(path,batch_size=64,target_size=(299,299),class_mode='categorical',shuffle=False)"
   ]
  },
  {
   "cell_type": "markdown",
   "metadata": {},
   "source": [
    "# Confusion Matrix"
   ]
  },
  {
   "cell_type": "code",
   "execution_count": 4,
   "metadata": {},
   "outputs": [
    {
     "name": "stdout",
     "output_type": "stream",
     "text": [
      "Classification Report\n",
      "             precision    recall  f1-score   support\n",
      "\n",
      "    Checked       0.78      0.83      0.81        30\n",
      "Colourblock       0.96      0.83      0.89        30\n",
      "    Melange       0.56      0.47      0.51        30\n",
      "  Patterned       0.59      0.55      0.57        29\n",
      "    Printed       0.48      0.43      0.46        30\n",
      "   abstract       0.26      0.17      0.21        29\n",
      "     floral       0.60      0.40      0.48        30\n",
      "    graphic       0.67      0.53      0.59        30\n",
      " polka dots       0.42      0.90      0.57        30\n",
      "      solid       0.75      0.50      0.60        30\n",
      "    striped       0.77      0.93      0.84        29\n",
      " typography       0.55      0.70      0.62        30\n",
      "\n",
      "avg / total       0.62      0.61      0.60       357\n",
      "\n"
     ]
    }
   ],
   "source": [
    "batch_size =64\n",
    "\n",
    "Y_pred = model.predict_generator(test, test.samples//batch_size+1)\n",
    "y_pred = np.argmax(Y_pred, axis=1)\n",
    "print('Classification Report')\n",
    "target_names = ['Checked', 'Colourblock', 'Melange', 'Patterned', 'Printed', 'abstract', 'floral', 'graphic', 'polka dots', 'solid', 'striped', 'typography']\n",
    "print(classification_report(test.classes, y_pred, target_names=target_names))\n"
   ]
  },
  {
   "cell_type": "code",
   "execution_count": null,
   "metadata": {},
   "outputs": [],
   "source": []
  }
 ],
 "metadata": {
  "kernelspec": {
   "display_name": "Python 3",
   "language": "python",
   "name": "python3"
  },
  "language_info": {
   "codemirror_mode": {
    "name": "ipython",
    "version": 3
   },
   "file_extension": ".py",
   "mimetype": "text/x-python",
   "name": "python",
   "nbconvert_exporter": "python",
   "pygments_lexer": "ipython3",
   "version": "3.6.6"
  }
 },
 "nbformat": 4,
 "nbformat_minor": 2
}
